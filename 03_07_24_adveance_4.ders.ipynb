{
 "cells": [
  {
   "cell_type": "code",
   "execution_count": 1,
   "metadata": {},
   "outputs": [
    {
     "data": {
      "text/plain": [
       "8"
      ]
     },
     "execution_count": 1,
     "metadata": {},
     "output_type": "execute_result"
    }
   ],
   "source": [
    "3 + 5"
   ]
  },
  {
   "cell_type": "markdown",
   "metadata": {},
   "source": [
    "# enumerate()"
   ]
  },
  {
   "cell_type": "code",
   "execution_count": 2,
   "metadata": {},
   "outputs": [],
   "source": [
    "name = [\"Hamdi\", \"Hakan\", \"Fatih\"]\n"
   ]
  },
  {
   "cell_type": "code",
   "execution_count": 3,
   "metadata": {},
   "outputs": [
    {
     "data": {
      "text/plain": [
       "<enumerate at 0x1b86da29620>"
      ]
     },
     "execution_count": 3,
     "metadata": {},
     "output_type": "execute_result"
    }
   ],
   "source": [
    "enumerate(name) # Default değeri 0. Değiştirilebiliyor. Touple olarak numaralandırma yapıyor."
   ]
  },
  {
   "cell_type": "code",
   "execution_count": 27,
   "metadata": {},
   "outputs": [
    {
     "name": "stdout",
     "output_type": "stream",
     "text": [
      "1 Hamdi\n",
      "2 Hakan\n",
      "3 Fatih\n"
     ]
    }
   ],
   "source": [
    "for index, isim in enumerate(name, 1) : #Burada name listesinin her elamanı ikili olduğu için ikili tarattırma yaptık. \n",
    "                                        #onuda print ile yazdırdık. \n",
    "    print(index, isim )\n"
   ]
  },
  {
   "cell_type": "code",
   "execution_count": 23,
   "metadata": {},
   "outputs": [
    {
     "name": "stdout",
     "output_type": "stream",
     "text": [
      "[(0, 'Hamdi'), (1, 'Hakan'), (2, 'Fatih')]\n"
     ]
    }
   ],
   "source": [
    "print(list(enumerate(name)))"
   ]
  },
  {
   "cell_type": "code",
   "execution_count": 5,
   "metadata": {},
   "outputs": [
    {
     "data": {
      "text/plain": [
       "[(1, 'Hamdi'), (2, 'Hakan'), (3, 'Fatih')]"
      ]
     },
     "execution_count": 5,
     "metadata": {},
     "output_type": "execute_result"
    }
   ],
   "source": [
    "list(enumerate(name, 1))"
   ]
  },
  {
   "cell_type": "markdown",
   "metadata": {},
   "source": [
    "number_list = [48, 10, 11, 21, 36, 5, 6, 52, 28, 29,\n",
    "       53, 54, 45, 19, 20, 47, 55, 39, 41, 7,\n",
    "       9, 17, 26, 27, 42, 22, 37, 51, 46, 18,\n",
    "       44, 30, 34, 13, 15, 35, 33, 16, 50, 24]\n",
    "Listenin min ve max değerleri arasındaki kayıp sayıları bulun"
   ]
  },
  {
   "cell_type": "code",
   "execution_count": 6,
   "metadata": {},
   "outputs": [
    {
     "name": "stdout",
     "output_type": "stream",
     "text": [
      "[8, 12, 14, 23, 25, 31, 32, 38, 40, 43, 49]\n"
     ]
    }
   ],
   "source": [
    "# çözüm - 1\n",
    "number_list = [48, 10, 11, 21, 36, 5, 6, 52, 28, 29,\n",
    "       53, 54, 45, 19, 20, 47, 55, 39, 41, 7,\n",
    "       9, 17, 26, 27, 42, 22, 37, 51, 46, 18,\n",
    "       44, 30, 34, 13, 15, 35, 33, 16, 50, 24]\n",
    "\n",
    "min_değer = min(number_list)\n",
    "max_değer = max(number_list)\n",
    "\n",
    "tam_liste = list(range(min_değer, max_değer + 1))\n",
    "\n",
    "kayıp_sayılar = []\n",
    "\n",
    "for i in tam_liste:\n",
    "\n",
    "    if i not in number_list:\n",
    "        kayıp_sayılar.append(i)\n",
    "\n",
    "print(kayıp_sayılar)\n",
    "\n",
    " "
   ]
  },
  {
   "cell_type": "code",
   "execution_count": 7,
   "metadata": {},
   "outputs": [
    {
     "name": "stdout",
     "output_type": "stream",
     "text": [
      "[8, 12, 14, 23, 25, 31, 32, 38, 40, 43, 49]\n"
     ]
    }
   ],
   "source": [
    "# çözüm - 2\n",
    "number_list = [48, 10, 11, 21, 36, 5, 6, 52, 28, 29,\n",
    "       53, 54, 45, 19, 20, 47, 55, 39, 41, 7,\n",
    "       9, 17, 26, 27, 42, 22, 37, 51, 46, 18,\n",
    "       44, 30, 34, 13, 15, 35, 33, 16, 50, 24]\n",
    "\n",
    "kayıp_sayılar = []\n",
    "\n",
    "for i in range(min(number_list), max(number_list) + 1):\n",
    "\n",
    "    if i not in number_list:\n",
    "        kayıp_sayılar.append(i)\n",
    "\n",
    "print(kayıp_sayılar)"
   ]
  },
  {
   "cell_type": "code",
   "execution_count": 8,
   "metadata": {},
   "outputs": [
    {
     "data": {
      "text/plain": [
       "{8, 12, 14, 23, 25, 31, 32, 38, 40, 43, 49}"
      ]
     },
     "execution_count": 8,
     "metadata": {},
     "output_type": "execute_result"
    }
   ],
   "source": [
    "#çözüm - 3\n",
    "\n",
    "set(range(min(number_list), max(number_list) + 1)) - set(number_list) # Burada setler de çıkarma işlemi yapabiliyorduk."
   ]
  },
  {
   "cell_type": "markdown",
   "metadata": {},
   "source": [
    "# List Comprehension"
   ]
  },
  {
   "cell_type": "code",
   "execution_count": 9,
   "metadata": {},
   "outputs": [
    {
     "data": {
      "text/plain": [
       "[1, 4, 9, 16, 25]"
      ]
     },
     "execution_count": 9,
     "metadata": {},
     "output_type": "execute_result"
    }
   ],
   "source": [
    "liste_1 = [1, 2, 3, 4, 5]\n",
    "\n",
    "sonuç_listesi = []\n",
    "\n",
    "for i in liste_1:\n",
    "    sonuç_listesi.append(i ** 2)    #\n",
    "\n",
    "sonuç_listesi\n",
    "\n"
   ]
  },
  {
   "cell_type": "code",
   "execution_count": 10,
   "metadata": {},
   "outputs": [
    {
     "data": {
      "text/plain": [
       "[1, 4, 9, 16, 25]"
      ]
     },
     "execution_count": 10,
     "metadata": {},
     "output_type": "execute_result"
    }
   ],
   "source": [
    "[i ** 2 for i in liste_1 ] # Burada for döngüsünü yazdık. döngünün içeriğini for un başına yazdık.\n",
    "                           # Bunu kullanmak çok hız kazandırır."
   ]
  },
  {
   "cell_type": "code",
   "execution_count": 11,
   "metadata": {},
   "outputs": [
    {
     "name": "stdout",
     "output_type": "stream",
     "text": [
      "[1, 15, 5, 89, 45, 71, 45, 95, 61]\n"
     ]
    }
   ],
   "source": [
    "sayılar_listesi = [1,15,2,36,5,89,45,62,52,71,30,56,45,95,61,48]\n",
    "tek_sayilar = []\n",
    "for i in sayılar_listesi :\n",
    "    if i % 2 :\n",
    "        tek_sayilar.append(i)\n",
    "print(tek_sayilar) "
   ]
  },
  {
   "cell_type": "markdown",
   "metadata": {},
   "source": [
    "## for + if"
   ]
  },
  {
   "cell_type": "code",
   "execution_count": 12,
   "metadata": {},
   "outputs": [
    {
     "data": {
      "text/plain": [
       "[1, 15, 5, 89, 45, 71, 45, 95, 61]"
      ]
     },
     "execution_count": 12,
     "metadata": {},
     "output_type": "execute_result"
    }
   ],
   "source": [
    "sayılar_listesi = [1,15,2,36,5,89,45,62,52,71,30,56,45,95,61,48] # for + if kullanılırken if yapısı for un sağ tarafına işlem kısmı sol tarafa\n",
    "\n",
    "\n",
    "[ i for i in sayılar_listesi if i % 2]"
   ]
  },
  {
   "cell_type": "code",
   "execution_count": 13,
   "metadata": {},
   "outputs": [
    {
     "name": "stdout",
     "output_type": "stream",
     "text": [
      "['fiat', 'ford']\n"
     ]
    }
   ],
   "source": [
    "liste_2 = [\"renault\", \"fiat\", \"ford\"]\n",
    "\n",
    "sonuç = []\n",
    "for i in  liste_2 :\n",
    "    if i[0] == \"f\" :\n",
    "        sonuç.append(i)\n",
    "print(sonuç)\n"
   ]
  },
  {
   "cell_type": "code",
   "execution_count": 14,
   "metadata": {},
   "outputs": [
    {
     "data": {
      "text/plain": [
       "['fiat', 'ford']"
      ]
     },
     "execution_count": 14,
     "metadata": {},
     "output_type": "execute_result"
    }
   ],
   "source": [
    "[i for i in liste_2 if i[0] == \"f\"]"
   ]
  },
  {
   "cell_type": "code",
   "execution_count": 15,
   "metadata": {},
   "outputs": [
    {
     "data": {
      "text/plain": [
       "['fiat']"
      ]
     },
     "execution_count": 15,
     "metadata": {},
     "output_type": "execute_result"
    }
   ],
   "source": [
    "[i for i in liste_2 if i.startswith(\"f\") if i.endswith(\"t\")] # Burada kısa yol. \n",
    "                                                             # Burada iç içe if kullandık."
   ]
  },
  {
   "cell_type": "markdown",
   "metadata": {},
   "source": [
    "# for + if+ else"
   ]
  },
  {
   "cell_type": "code",
   "execution_count": 16,
   "metadata": {},
   "outputs": [
    {
     "name": "stdout",
     "output_type": "stream",
     "text": [
      "[1, 225, 2, 36, 25, 7921, 2025, 62, 52, 5041, 30, 56, 2025, 9025, 3721, 48]\n"
     ]
    }
   ],
   "source": [
    "sayılar_listesi = [1,15,2,36,5,89,45,62,52,71,30,56,45,95,61,48] # Çift olanlar yerinde kalsın. Tek olanlarınkaresini yazınız.\n",
    "result = [] \n",
    "for i in sayılar_listesi :\n",
    "    \n",
    "    if i % 2 == 0 :\n",
    "        result.append(i)\n",
    "    else :\n",
    "        result.append(i ** 2)\n",
    "print(result) "
   ]
  },
  {
   "cell_type": "code",
   "execution_count": 17,
   "metadata": {},
   "outputs": [
    {
     "data": {
      "text/plain": [
       "[1, 225, 2, 36, 25, 7921, 2025, 62, 52, 5041, 30, 56, 2025, 9025, 3721, 48]"
      ]
     },
     "execution_count": 17,
     "metadata": {},
     "output_type": "execute_result"
    }
   ],
   "source": [
    "[  i if i % 2 == 0 else (i ** 2) for i in sayılar_listesi   ] # for ; if ve else beraber kullanılacaksa en sağa yazılır\n",
    "                                                                  # if in işlem kısmı if in soluna, else nin işlem kısmı else nin ssağına yazılır."
   ]
  },
  {
   "cell_type": "code",
   "execution_count": 20,
   "metadata": {},
   "outputs": [
    {
     "name": "stdout",
     "output_type": "stream",
     "text": [
      "a\n",
      "b\n",
      "c\n",
      "aa\n",
      "bb\n",
      "cc\n",
      "aaa\n",
      "bbb\n",
      "ccc\n"
     ]
    }
   ],
   "source": [
    "for i in (1, 2, 3) :    # dış döngü bir kere çalışır sonra iç dögü tamamen çalışır. dış döngü bitene kadar böyle çalışır.\n",
    "    for j in (\"a\", \"b\", \"c\") : \n",
    "        print(i * j)"
   ]
  },
  {
   "cell_type": "code",
   "execution_count": 22,
   "metadata": {},
   "outputs": [
    {
     "data": {
      "text/plain": [
       "['a', 'b', 'c', 'aa', 'bb', 'cc', 'aaa', 'bbb', 'ccc']"
      ]
     },
     "execution_count": 22,
     "metadata": {},
     "output_type": "execute_result"
    }
   ],
   "source": [
    "[     i * j  for i in (1, 2, 3) for j in (\"a\", \"b\", \"c\") ]  # iç içe for döngüsünü boş liste de çalıştırdık.                               ]"
   ]
  },
  {
   "cell_type": "markdown",
   "metadata": {},
   "source": [
    "# armstrong number bulan kodu yazın"
   ]
  },
  {
   "cell_type": "code",
   "execution_count": null,
   "metadata": {},
   "outputs": [
    {
     "name": "stdout",
     "output_type": "stream",
     "text": [
      " Girilen sayı : 407 armstrong bir sayıdır.  \n"
     ]
    }
   ],
   "source": [
    "sayi = (input(\"bir sayı giriniz.\"))\n",
    "uzunluk = len(sayi)\n",
    "toplam_1 = 0\n",
    "\n",
    "for i in sayi:\n",
    "   toplam_1 += int(i) ** uzunluk  \n",
    "if toplam_1 == int(sayi) :\n",
    "    print( f\" Girilen sayı : {sayi} armstrong bir sayıdır.  \") \n",
    "else :\n",
    "    print(f\" girilen sayı : {sayi} aemstrong sayı değildir.. \")\n"
   ]
  },
  {
   "cell_type": "code",
   "execution_count": null,
   "metadata": {},
   "outputs": [
    {
     "name": "stdout",
     "output_type": "stream",
     "text": [
      "girilen sayı: 407 armstrong bir sayıdır\n"
     ]
    }
   ],
   "source": [
    "# armstrong number bulan kodu yazın\n",
    "sayı = input(\"lütfen bir sayı girin\")\n",
    "\n",
    "uzunluk = len(sayı)\n",
    "\n",
    "toplam = 0\n",
    "\n",
    "for i in sayı:\n",
    "    toplam += int(i) ** uzunluk\n",
    "\n",
    "if int(sayı) == toplam:\n",
    "    \n",
    "    print(f\"girilen sayı: {sayı} armstrong bir sayıdır\")\n",
    "else:\n",
    "    print(f\"girilen sayı: {sayı} armstrong bir sayı değildir\")"
   ]
  },
  {
   "cell_type": "code",
   "execution_count": null,
   "metadata": {},
   "outputs": [
    {
     "name": "stdout",
     "output_type": "stream",
     "text": [
      "girilen sayı: 407 armstrong bir sayıdır\n"
     ]
    }
   ],
   "source": [
    "# armstrong number bulan kodu yazın\n",
    "sayı = input(\"lütfen bir sayı girin\")\n",
    "\n",
    "uzunluk = len(sayı)\n",
    "\n",
    "\n",
    "for i in sayı:\n",
    "    toplam += int(i) ** uzunluk\n",
    "\n",
    "if int(sayı) == toplam:\n",
    "    print(f\"girilen sayı: {sayı} armstrong bir sayıdır\")\n",
    "else:\n",
    "    print(f\"girilen sayı: {sayı} armstrong bir sayı değildir\")"
   ]
  },
  {
   "cell_type": "markdown",
   "metadata": {},
   "source": [
    "ödev1 - armstrong sorusunu list comprehension la çözün."
   ]
  },
  {
   "cell_type": "code",
   "execution_count": 29,
   "metadata": {},
   "outputs": [
    {
     "data": {
      "text/plain": [
       "True"
      ]
     },
     "execution_count": 29,
     "metadata": {},
     "output_type": "execute_result"
    }
   ],
   "source": [
    "sayı = input(\"lütfen bir sayı girin\")\n",
    "\n",
    "sum([ int(i) ** len(sayı)  for i in sayı]) == int(sayı)"
   ]
  },
  {
   "cell_type": "markdown",
   "metadata": {},
   "source": [
    "ödev - 2\n",
    "\n",
    "Bir markete gittiniz. Markette her ürünün bir kod numarası var. 1 : Elma 2 : Portakal 3 : Çilek 4 : Yumurta 5 : Havuç 6 : Armut ... vs. şeklinde. Kullanıcıya almak istediği ürünü sorunuz ve kod numarası ile seçim yaptırınız. Çıkış için \"q\" opsiyonunu sununuz. Kullanıcının her ürün seçimi sonrası \" .... elma sepete eklendi\" gibi bir dönüt veriniz. Kullanıcı ürün almaya devam ettikçe ürünleri bir listede toplayınız, almaktan vazgeçtiği durumda teşekkür edip, aldığı toplam ürünleri çıktı veren bir kod yazınız. Çıktı: Teşekkür Ederiz... Sepetinizde Bulunan Ürünler: elma, armut, yumurta ... vs.\n",
    "\n",
    "çıktı:\n",
    "\n",
    "Marketimize Hoş geldiniz\n",
    "Ürünlerimiz:\n",
    "1 : \"Elma\",\n",
    "2 : \"Portakal\",\n",
    "3 : \"Çilek\", \n",
    "4 : \"Yumurta\",\n",
    "5 : \"Havuç\",\n",
    "6 : \"Armut\"     \n",
    "      \n",
    "Sepete Portakal eklendi\n",
    "Sepete Yumurta eklendi\n",
    "Sepete Armut eklendi\n",
    "Sepete Armut eklendi\n",
    "Bizi tercih ettiğiniz için teşekkürler\n",
    "Almış olduğunuz ürünler: ['Portakal', 'Yumurta', 'Armut', 'Armut']"
   ]
  },
  {
   "cell_type": "code",
   "execution_count": null,
   "metadata": {},
   "outputs": [
    {
     "name": "stdout",
     "output_type": "stream",
     "text": [
      "Hoş geldiniz.\n",
      "Ürün adı : Elma \tÜrün kodu : 1\n",
      "Ürün adı : Portakal \tÜrün kodu : 2\n",
      "Ürün adı : Çilek \tÜrün kodu : 3\n",
      "Ürün adı : Yumurta \tÜrün kodu : 4\n",
      "Ürün adı : Havuç \tÜrün kodu : 5\n",
      "Ürün adı : Armut \tÜrün kodu : 6\n",
      "Elma sepete eklendi.\n",
      "Portakal sepete eklendi.\n",
      "Çilek sepete eklendi.\n",
      "Yumurta sepete eklendi.\n",
      "Havuç sepete eklendi.\n",
      "Armut sepete eklendi.\n",
      "Çıkış yapıldı.\n",
      "Bizi tercih ettiğiniz için teşekkürler.\n",
      "İşte sepetiniz : ['Elma', 'Portakal', 'Çilek', 'Yumurta', 'Havuç', 'Armut']\n"
     ]
    }
   ],
   "source": [
    "\n",
    "alinan_urunler = []\n",
    "urunler = {\"1\": \"Elma\", \"2\": \"Portakal\", \"3\": \"Çilek\", \"4\": \"Yumurta\", \"5\": \"Havuç\", \"6\": \"Armut\"}\n",
    "print(\"Hoş geldiniz.\")\n",
    "for i,j in urunler.items() :\n",
    "    print(f\"Ürün adı : {j} \\tÜrün kodu : {i}\")\n",
    "while True :\n",
    "      alinacak_urun = input(\" Lütfen bir ürün için kod yazınız.\")                \n",
    "      if alinacak_urun in urunler :\n",
    "            alinan_urunler.append(urunler[alinacak_urun])\n",
    "            print(f\"{urunler[alinacak_urun]} sepete eklendi.\")\n",
    "      elif alinacak_urun == \"q\" :\n",
    "            print(\"Çıkış yapıldı.\")\n",
    "            break\n",
    "      elif  alinacak_urun not in urunler :\n",
    "            print(\"Lütfen listeden bir kod giriniz.\")\n",
    "print(f\"Bizi tercih ettiğiniz için teşekkürler.\\nİşte sepetiniz : {alinan_urunler}\")"
   ]
  },
  {
   "cell_type": "code",
   "execution_count": null,
   "metadata": {},
   "outputs": [],
   "source": []
  }
 ],
 "metadata": {
  "kernelspec": {
   "display_name": "Python 3",
   "language": "python",
   "name": "python3"
  },
  "language_info": {
   "codemirror_mode": {
    "name": "ipython",
    "version": 3
   },
   "file_extension": ".py",
   "mimetype": "text/x-python",
   "name": "python",
   "nbconvert_exporter": "python",
   "pygments_lexer": "ipython3",
   "version": "3.12.3"
  }
 },
 "nbformat": 4,
 "nbformat_minor": 2
}
