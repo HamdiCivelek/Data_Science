{
 "cells": [
  {
   "cell_type": "code",
   "execution_count": 10,
   "metadata": {},
   "outputs": [
    {
     "data": {
      "text/plain": [
       "8"
      ]
     },
     "execution_count": 10,
     "metadata": {},
     "output_type": "execute_result"
    }
   ],
   "source": [
    "3 + 5"
   ]
  },
  {
   "cell_type": "markdown",
   "metadata": {},
   "source": [
    "# Positional and Keyword arguments"
   ]
  },
  {
   "cell_type": "code",
   "execution_count": 23,
   "metadata": {},
   "outputs": [],
   "source": [
    "def say_my_name(first_name, last_name) :\n",
    "    print(f\"My name is {first_name} {last_name}\")"
   ]
  },
  {
   "cell_type": "code",
   "execution_count": 22,
   "metadata": {},
   "outputs": [
    {
     "name": "stdout",
     "output_type": "stream",
     "text": [
      "My name is CİVELEK Hamdi\n"
     ]
    }
   ],
   "source": [
    "say_my_name(\"Hamdi\", \"CİVELEK\") # Burada sıralama önemli. "
   ]
  },
  {
   "cell_type": "code",
   "execution_count": 13,
   "metadata": {},
   "outputs": [
    {
     "name": "stdout",
     "output_type": "stream",
     "text": [
      "My name is Hamdi CİVELEK\n"
     ]
    }
   ],
   "source": [
    "say_my_name(last_name= \"CİVELEK\", first_name= \"Hamdi\") # Burada direk parametreye atama yaptığımız için sıralama önemli değil."
   ]
  },
  {
   "cell_type": "code",
   "execution_count": 14,
   "metadata": {},
   "outputs": [],
   "source": [
    "def your_name(first_name, last_name = \"Yavuz\"): # Burada default değeri atadık. Eğer last_name için değer girilmez ise otomatik \"Yavuz\" yazar.\n",
    "    print(f\"Your name is {first_name} {last_name}\")"
   ]
  },
  {
   "cell_type": "code",
   "execution_count": 15,
   "metadata": {},
   "outputs": [
    {
     "name": "stdout",
     "output_type": "stream",
     "text": [
      "Your name is Sedat Yavuz\n"
     ]
    }
   ],
   "source": [
    "your_name(\"Sedat\")"
   ]
  },
  {
   "cell_type": "code",
   "execution_count": 16,
   "metadata": {},
   "outputs": [
    {
     "ename": "SyntaxError",
     "evalue": "positional argument follows keyword argument (803508941.py, line 1)",
     "output_type": "error",
     "traceback": [
      "\u001b[1;36m  Cell \u001b[1;32mIn[16], line 1\u001b[1;36m\u001b[0m\n\u001b[1;33m    your_name(last_name=\"Aslan\", \"Sedat\") #Burada last_name atadığı için hata verdi. Sıralama karıştı burda.\u001b[0m\n\u001b[1;37m                                        ^\u001b[0m\n\u001b[1;31mSyntaxError\u001b[0m\u001b[1;31m:\u001b[0m positional argument follows keyword argument\n"
     ]
    }
   ],
   "source": [
    "your_name(last_name=\"Aslan\", \"Sedat\") #Burada last_name atadığı için hata verdi. Sıralama karıştı burda."
   ]
  },
  {
   "cell_type": "code",
   "execution_count": null,
   "metadata": {},
   "outputs": [
    {
     "ename": "SyntaxError",
     "evalue": "parameter without a default follows parameter with a default (3736084414.py, line 1)",
     "output_type": "error",
     "traceback": [
      "\u001b[1;36m  Cell \u001b[1;32mIn[11], line 1\u001b[1;36m\u001b[0m\n\u001b[1;33m    def your_name_2(first_name, second_name = \"Ali\", last_name):\u001b[0m\n\u001b[1;37m                                                     ^\u001b[0m\n\u001b[1;31mSyntaxError\u001b[0m\u001b[1;31m:\u001b[0m parameter without a default follows parameter with a default\n"
     ]
    }
   ],
   "source": [
    "def your_name_2(first_name, second_name = \"Ali\", last_name): # Bu satırda default olan değerin en son yazılması lazım.\n",
    "    print(f\"Your name is {first_name} {second_name} {last_name}\")"
   ]
  },
  {
   "cell_type": "code",
   "execution_count": 17,
   "metadata": {},
   "outputs": [],
   "source": [
    "def your_name_2(first_name, last_name, second_name = \"Ali\"): # Burada doğru işlem yaptık.\n",
    "    print(f\"Your name is {first_name} {second_name} {last_name}\")"
   ]
  },
  {
   "cell_type": "code",
   "execution_count": 25,
   "metadata": {},
   "outputs": [
    {
     "name": "stdout",
     "output_type": "stream",
     "text": [
      "Your name is Hamdi Ali CİVELEK\n"
     ]
    }
   ],
   "source": [
    "your_name_2( \"Hamdi\", \"CİVELEK\")"
   ]
  },
  {
   "cell_type": "code",
   "execution_count": null,
   "metadata": {},
   "outputs": [],
   "source": [
    "def tek_sayılar(a,b,c,d,e):\n",
    "\n",
    "    tek_sayılar = []\n",
    "\n",
    "    for i in a,b,c,d,e:\n",
    "\n",
    "        if i % 2 == 1:\n",
    "\n",
    "            tek_sayılar.append(i)\n",
    "\n",
    "    return tek_sayılar"
   ]
  },
  {
   "cell_type": "code",
   "execution_count": null,
   "metadata": {},
   "outputs": [
    {
     "data": {
      "text/plain": [
       "[1, 3, 5]"
      ]
     },
     "execution_count": 14,
     "metadata": {},
     "output_type": "execute_result"
    }
   ],
   "source": [
    "tek_sayılar(1,2,3,4,5)"
   ]
  },
  {
   "cell_type": "code",
   "execution_count": null,
   "metadata": {},
   "outputs": [],
   "source": [
    "def tek_sayılar(a,b,c,d,e):   \n",
    "\n",
    "    tek_sayılar = []\n",
    "\n",
    "    for i in a,b,c,d,e:\n",
    "\n",
    "        if i % 2 == 1:   # Burada işlem yapıldığı için fonksiyonu kallanırken sayı girmemeiz gerekir.\n",
    "\n",
    "            tek_sayılar.append(i)\n",
    "\n",
    "    return tek_sayıla"
   ]
  },
  {
   "cell_type": "code",
   "execution_count": null,
   "metadata": {},
   "outputs": [
    {
     "ename": "NameError",
     "evalue": "name 'tek_sayılar' is not defined",
     "output_type": "error",
     "traceback": [
      "\u001b[1;31m---------------------------------------------------------------------------\u001b[0m",
      "\u001b[1;31mNameError\u001b[0m                                 Traceback (most recent call last)",
      "Cell \u001b[1;32mIn[19], line 1\u001b[0m\n\u001b[1;32m----> 1\u001b[0m \u001b[43mtek_sayılar\u001b[49m(\u001b[38;5;241m1\u001b[39m,\u001b[38;5;241m2\u001b[39m,\u001b[38;5;241m3\u001b[39m,\u001b[38;5;241m4\u001b[39m,\u001b[38;5;124m\"\u001b[39m\u001b[38;5;124mHamdi\u001b[39m\u001b[38;5;124m\"\u001b[39m) \u001b[38;5;66;03m# Burada hata verdi. Çünkü string ifade girdik.\u001b[39;00m\n",
      "\u001b[1;31mNameError\u001b[0m: name 'tek_sayılar' is not defined"
     ]
    }
   ],
   "source": [
    "tek_sayılar(1,2,3,4,\"Hamdi\") # Burada hata verdi. Çünkü string ifade girdik."
   ]
  },
  {
   "cell_type": "code",
   "execution_count": null,
   "metadata": {},
   "outputs": [],
   "source": [
    "def tek_sayılar_2(a, b, c, d=15, e=18):\n",
    "\n",
    "    tek_sayılar = []\n",
    "\n",
    "    for i in a,b,c,d,e:\n",
    "\n",
    "        if i % 2 == 1:\n",
    "\n",
    "            tek_sayılar.append(i)\n",
    "\n",
    "    return tek_sayılar"
   ]
  },
  {
   "cell_type": "code",
   "execution_count": null,
   "metadata": {},
   "outputs": [
    {
     "data": {
      "text/plain": [
       "[17, 25, 15]"
      ]
     },
     "execution_count": 33,
     "metadata": {},
     "output_type": "execute_result"
    }
   ],
   "source": [
    "tek_sayılar_2(10, 17, 25)"
   ]
  },
  {
   "cell_type": "code",
   "execution_count": 1,
   "metadata": {},
   "outputs": [],
   "source": [
    "def tek_sayılar_3(a:int, b:str, c:int, d=15, e=18.0):\n",
    "\n",
    "    tek_sayılar = []\n",
    "\n",
    "    for i in a,b,c,d,e:\n",
    "\n",
    "        if i % 2 == 1:\n",
    "\n",
    "            tek_sayılar.append(i)\n",
    "\n",
    "    return tek_sayılar"
   ]
  },
  {
   "cell_type": "code",
   "execution_count": 2,
   "metadata": {},
   "outputs": [
    {
     "data": {
      "text/plain": [
       "[5.0, 7, 15]"
      ]
     },
     "execution_count": 2,
     "metadata": {},
     "output_type": "execute_result"
    }
   ],
   "source": [
    "tek_sayılar_3(5.0, 7, 8)"
   ]
  },
  {
   "cell_type": "markdown",
   "metadata": {},
   "source": [
    "# Arbitrary Number Of Arguments(* args, **kwargs)\n",
    "(Sınırsız argüman sayısı)"
   ]
  },
  {
   "cell_type": "code",
   "execution_count": null,
   "metadata": {},
   "outputs": [],
   "source": [
    "# Kural dışı bir kullanım"
   ]
  },
  {
   "cell_type": "code",
   "execution_count": null,
   "metadata": {},
   "outputs": [],
   "source": [
    "def çift_sayılar(* sayılar): # Burada istediğimiz kadar sayı yazabiliriz. Touple olarak algılar. Birden fazla değer kullanmamızı sağlar.\n",
    "                            # Buraya \n",
    "    \n",
    "    evens = []\n",
    "\n",
    "    for i in sayılar:\n",
    "\n",
    "        if i % 2 == 0:\n",
    "            evens.append(i)\n",
    "\n",
    "    return evens"
   ]
  },
  {
   "cell_type": "code",
   "execution_count": null,
   "metadata": {},
   "outputs": [
    {
     "data": {
      "text/plain": [
       "[2, 4, 6, 8, 44, 66]"
      ]
     },
     "execution_count": 42,
     "metadata": {},
     "output_type": "execute_result"
    }
   ],
   "source": [
    "çift_sayılar(1,2,4,6,8,44,66,) # istediğimiz kadar sayı girebiliyoruz. Fonksiyon sorunsuz çalıştı."
   ]
  },
  {
   "cell_type": "code",
   "execution_count": null,
   "metadata": {},
   "outputs": [
    {
     "data": {
      "text/plain": [
       "[]"
      ]
     },
     "execution_count": 40,
     "metadata": {},
     "output_type": "execute_result"
    }
   ],
   "source": [
    "çift_sayılar() # Burada "
   ]
  },
  {
   "cell_type": "code",
   "execution_count": 31,
   "metadata": {},
   "outputs": [],
   "source": [
    "def a_ile_başlayanlar(* isimler):\n",
    "\n",
    "    a_names = []\n",
    "\n",
    "    for i in isimler:\n",
    "\n",
    "        if i.startswith(\"a\"):\n",
    "\n",
    "            a_names.append(i)\n",
    "\n",
    "    return a_names"
   ]
  },
  {
   "cell_type": "code",
   "execution_count": 32,
   "metadata": {},
   "outputs": [
    {
     "data": {
      "text/plain": [
       "['aslan', 'ali']"
      ]
     },
     "execution_count": 32,
     "metadata": {},
     "output_type": "execute_result"
    }
   ],
   "source": [
    "a_ile_başlayanlar(\"Hamdi\", \"Mahmut\", \"aslan\", \"ali\")"
   ]
  },
  {
   "cell_type": "code",
   "execution_count": 1,
   "metadata": {},
   "outputs": [],
   "source": [
    "def sayılar(* sayılar):\n",
    "    tek_sayılar = []\n",
    "    çift_sayılar = []\n",
    "\n",
    "    for i in sayılar :\n",
    "        if i % 2 :\n",
    "            tek_sayılar.append(i ** 2)\n",
    "        else :\n",
    "            çift_sayılar.append(i * 2)\n",
    "    return(tek_sayılar, çift_sayılar)\n",
    "    "
   ]
  },
  {
   "cell_type": "code",
   "execution_count": null,
   "metadata": {},
   "outputs": [],
   "source": [
    "def tek_çift(* sayılar):\n",
    "\n",
    "    odds_evens = []\n",
    "\n",
    "    for i in sayılar:\n",
    "\n",
    "        if i % 2 == 0:\n",
    "\n",
    "            odds_evens.append(i * 2)\n",
    "\n",
    "        else:\n",
    "            odds_evens.append(i ** 2)\n",
    "\n",
    "    return odds_evens"
   ]
  },
  {
   "cell_type": "code",
   "execution_count": null,
   "metadata": {},
   "outputs": [
    {
     "data": {
      "text/plain": [
       "([1, 9, 25], [4, 8, 12])"
      ]
     },
     "execution_count": 58,
     "metadata": {},
     "output_type": "execute_result"
    }
   ],
   "source": [
    "sayılar(1, 2, 3, 4, 5, 6 )"
   ]
  },
  {
   "cell_type": "code",
   "execution_count": null,
   "metadata": {},
   "outputs": [],
   "source": [
    "def sayılar_1(* sayılar):\n",
    "\n",
    "    return [ (i ** 2)  if i % 2 else (i * 2) for i in sayılar  ]  # Burada return önemli\n",
    "      \n",
    "    "
   ]
  },
  {
   "cell_type": "code",
   "execution_count": null,
   "metadata": {},
   "outputs": [
    {
     "data": {
      "text/plain": [
       "[1, 4, 9, 8, 25, 12]"
      ]
     },
     "execution_count": 60,
     "metadata": {},
     "output_type": "execute_result"
    }
   ],
   "source": [
    "sayılar_1(1, 2, 3, 4, 5, 6)"
   ]
  },
  {
   "cell_type": "code",
   "execution_count": null,
   "metadata": {},
   "outputs": [],
   "source": [
    "# sonraki ders **kwargs   lamda fonksiyonu "
   ]
  },
  {
   "cell_type": "code",
   "execution_count": null,
   "metadata": {},
   "outputs": [
    {
     "data": {
      "text/plain": [
       "[1, 4, 9, 8, 25, 12, 49, 16, 81]"
      ]
     },
     "execution_count": 62,
     "metadata": {},
     "output_type": "execute_result"
    }
   ],
   "source": [
    "tek_çift(* range(1, 10)) # Burada hata vermedi . Çünkü asterix işareti listeyi parçalarına ayırdı."
   ]
  },
  {
   "cell_type": "code",
   "execution_count": null,
   "metadata": {},
   "outputs": [
    {
     "ename": "TypeError",
     "evalue": "unsupported operand type(s) for %: 'range' and 'int'",
     "output_type": "error",
     "traceback": [
      "\u001b[1;31m---------------------------------------------------------------------------\u001b[0m",
      "\u001b[1;31mTypeError\u001b[0m                                 Traceback (most recent call last)",
      "Cell \u001b[1;32mIn[63], line 1\u001b[0m\n\u001b[1;32m----> 1\u001b[0m \u001b[43mtek_çift\u001b[49m\u001b[43m(\u001b[49m\u001b[38;5;28;43mrange\u001b[39;49m\u001b[43m(\u001b[49m\u001b[38;5;241;43m1\u001b[39;49m\u001b[43m,\u001b[49m\u001b[43m \u001b[49m\u001b[38;5;241;43m10\u001b[39;49m\u001b[43m)\u001b[49m\u001b[43m)\u001b[49m\n",
      "Cell \u001b[1;32mIn[57], line 7\u001b[0m, in \u001b[0;36mtek_çift\u001b[1;34m(*sayılar)\u001b[0m\n\u001b[0;32m      3\u001b[0m odds_evens \u001b[38;5;241m=\u001b[39m []\n\u001b[0;32m      5\u001b[0m \u001b[38;5;28;01mfor\u001b[39;00m i \u001b[38;5;129;01min\u001b[39;00m sayılar:\n\u001b[1;32m----> 7\u001b[0m     \u001b[38;5;28;01mif\u001b[39;00m \u001b[43mi\u001b[49m\u001b[43m \u001b[49m\u001b[38;5;241;43m%\u001b[39;49m\u001b[43m \u001b[49m\u001b[38;5;241;43m2\u001b[39;49m \u001b[38;5;241m==\u001b[39m \u001b[38;5;241m0\u001b[39m:\n\u001b[0;32m      9\u001b[0m         odds_evens\u001b[38;5;241m.\u001b[39mappend(i \u001b[38;5;241m*\u001b[39m \u001b[38;5;241m2\u001b[39m)\n\u001b[0;32m     11\u001b[0m     \u001b[38;5;28;01melse\u001b[39;00m:\n",
      "\u001b[1;31mTypeError\u001b[0m: unsupported operand type(s) for %: 'range' and 'int'"
     ]
    }
   ],
   "source": [
    "tek_çift(range(1, 10)) # Burada range(1, 10) vir liste olduğu için bunu bir elam olarak aldı. \n",
    "                        # Başına * asterix eklersek bu listeyi parçalayarak işlem yapacak. O zamn hata vermeyecek."
   ]
  },
  {
   "cell_type": "code",
   "execution_count": null,
   "metadata": {},
   "outputs": [
    {
     "data": {
      "text/plain": [
       "[1, 4, 9, 8, 25, 12, 49, 16, 81]"
      ]
     },
     "execution_count": 64,
     "metadata": {},
     "output_type": "execute_result"
    }
   ],
   "source": [
    "tek_çift(* range(1, 10)) # Burada asterix işareti tek liste olan range(1, 10) elamanını ayırır."
   ]
  },
  {
   "cell_type": "markdown",
   "metadata": {},
   "source": [
    "Anne, baba ve çocuktan oluşan çekirdek ailenin Süper aile olup olmadığını bulan kodu yazın. isimleri kullanıcıdan isteyin. (Çocuğun ismindeki sessiz harflerin hepsi, anne ve babanın isimlerinde var ise bu aile süper ailedir.(Not: anne ve baba isminden en az bir tane olmalı.). örn1: baba adı = \"Halil\", anne adı= \"Merve\", çocuk adı= \"Veli\" >> Süper aile. (\"v\" anneden, \"l\" babadan) örn2: baba adı = \"Murat\", anne adı= \"Songül\", çocuk adı= \"Mert\" >> Süper aile değil. Anneden harf yok. \n",
    "\n",
    "def super_aile(anne, baba, cocuk) :"
   ]
  },
  {
   "cell_type": "code",
   "execution_count": 5,
   "metadata": {},
   "outputs": [],
   "source": [
    "def super_aile():\n",
    "    anne = input(\" Anne adını giriniz\")\n",
    "    baba = input(\"Baba adını giriniz\")\n",
    "    cocuk = input(\"Çocuk adını giriniz\")\n",
    "    anne_sessiz = set()                   # Baba adı: \"Halil\", Anne adı: \"Merve\", Çocuk adı: \"Veli\" (Süper aile)\n",
    "    baba_sessiz = set()                   # Baba adı: \"Cemal\", Anne adı: \"Gülay\", Çocuk adı: \"Lale\" (Süper aile)\n",
    "    cocuk_sessiz = set()                  # Baba adı: \"Ahmet\", Anne adı: \"Ayşe\", Çocuk adı: \"Mehmet\" (Süper aile)\n",
    "    ilk_true = None                       \n",
    "    ikinci_true = None                    \n",
    "    son_true = None\n",
    "    for i in anne.lower() :\n",
    "        if i in \"bcçdfgğhjklmnprsştyvz\" :\n",
    "            anne_sessiz.add(i)\n",
    "    for i in baba.lower() :\n",
    "        if i in \"bcçdfgğhjklmnprsştyvz\" :\n",
    "            baba_sessiz.add(i)\n",
    "    for i in cocuk.lower() :\n",
    "        if i in \"bcçdfgğhjklmnprsştyvz\" :\n",
    "            cocuk_sessiz.add(i)\n",
    "    if anne_sessiz | baba_sessiz | cocuk_sessiz == anne_sessiz | baba_sessiz : \n",
    "        ilk_true = True\n",
    "    else :\n",
    "        ilk_true = False\n",
    "    for i in cocuk_sessiz :\n",
    "        if i in anne_sessiz :\n",
    "            ikinci_true = True\n",
    "            break\n",
    "    for i in cocuk_sessiz :\n",
    "        if i in baba_sessiz :\n",
    "            son_true = True\n",
    "            break\n",
    "    if ilk_true == True and ikinci_true == True and son_true == True :\n",
    "        print(f\" Anne adı, {anne}, baba adı, {baba} ve çocuğun adı, {cocuk} olan bu aile, süper ailedir.\")\n",
    "    else :\n",
    "        print(f\" Anne adı, {anne}, baba adı, {baba} ve çocuğun adı, {cocuk} olan bu aile, süper aile değildir.\")"
   ]
  },
  {
   "cell_type": "code",
   "execution_count": 6,
   "metadata": {},
   "outputs": [
    {
     "name": "stdout",
     "output_type": "stream",
     "text": [
      " Anne adı, Merve, baba adı, Halil ve çocuğun adı, Veli olan bu aile, süper ailedir.\n"
     ]
    }
   ],
   "source": [
    "super_aile()"
   ]
  },
  {
   "cell_type": "code",
   "execution_count": 1,
   "metadata": {},
   "outputs": [],
   "source": [
    "def super_aile_2():\n",
    "    anne = input(\" Anne adını giriniz\")    # Baba adı: \"Halil\", Anne adı: \"Merve\", Çocuk adı: \"Veli\" (Süper aile)                                        \n",
    "    baba = input(\"Baba adını giriniz\")     # Baba adı: \"Cemal\", Anne adı: \"Gülay\", Çocuk adı: \"Lale\" (Süper aile)\n",
    "    cocuk = input(\"Çocuk adını giriniz\")\n",
    "\n",
    "    ilk_true = None                       \n",
    "    ikinci_true = None                    \n",
    "    son_true = None\n",
    "    anne_sessiz = {i for i in anne.lower() if i in \"bcçdfgğhjklmnprsştyvz\"}\n",
    "    baba_sessiz = {i for i in baba.lower() if i in \"bcçdfgğhjklmnprsştyvz\"}\n",
    "    cocuk_sessiz = {i for i in cocuk.lower() if i in \"bcçdfgğhjklmnprsştyvz\"}\n",
    "    \n",
    "    if anne_sessiz | baba_sessiz | cocuk_sessiz == anne_sessiz | baba_sessiz : \n",
    "        ilk_true = True     \n",
    "    for i in cocuk_sessiz :\n",
    "        if i in anne_sessiz :\n",
    "            ikinci_true = True\n",
    "            break\n",
    "    for i in cocuk_sessiz :\n",
    "        if i in baba_sessiz :\n",
    "            son_true = True\n",
    "            break\n",
    "    if ilk_true == True and ikinci_true == True and son_true == True :\n",
    "        print(f\" Anne adı, {anne}, baba adı, {baba} ve çocuğun adı, {cocuk} olan bu aile, süper ailedir.\")\n",
    "    else :\n",
    "        print(f\" Anne adı, {anne}, baba adı, {baba} ve çocuğun adı, {cocuk} olan bu aile, süper aile değildir.\")"
   ]
  },
  {
   "cell_type": "code",
   "execution_count": 4,
   "metadata": {},
   "outputs": [
    {
     "name": "stdout",
     "output_type": "stream",
     "text": [
      " Anne adı, Ela, baba adı, can ve çocuğun adı, ece olan bu aile, süper aile değildir.\n"
     ]
    }
   ],
   "source": [
    "super_aile_2()"
   ]
  },
  {
   "cell_type": "code",
   "execution_count": null,
   "metadata": {},
   "outputs": [],
   "source": [
    "def isSuperFamily(anne, baba, cocuk):\n",
    "\n",
    "    anne = anne.lower()\n",
    "    baba = baba.lower()\n",
    "    cocuk = cocuk.lower()\n",
    "\n",
    "    cocuk_sessiz_harfler = \"\"\n",
    "\n",
    "    for i in cocuk:\n",
    "        if i not in \"aeıioöuü\":\n",
    "            cocuk_sessiz_harfler += i\n",
    "\n",
    "    if len(set(anne) & set(cocuk_sessiz_harfler)) > 0 and len(set(baba) & set(cocuk_sessiz_harfler)) > 0 and set(cocuk_sessiz_harfler).issubset(set(anne) | set(baba)): \n",
    "        print(\"Bu aile süper ailedir.\")\n",
    "    else:\n",
    "        print(\"Bu aile super aile değildir.\")"
   ]
  }
 ],
 "metadata": {
  "kernelspec": {
   "display_name": "Python 3",
   "language": "python",
   "name": "python3"
  },
  "language_info": {
   "codemirror_mode": {
    "name": "ipython",
    "version": 3
   },
   "file_extension": ".py",
   "mimetype": "text/x-python",
   "name": "python",
   "nbconvert_exporter": "python",
   "pygments_lexer": "ipython3",
   "version": "3.12.3"
  }
 },
 "nbformat": 4,
 "nbformat_minor": 2
}
