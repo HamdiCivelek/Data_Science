{
 "cells": [
  {
   "cell_type": "code",
   "execution_count": 1,
   "metadata": {},
   "outputs": [
    {
     "data": {
      "text/plain": [
       "8"
      ]
     },
     "execution_count": 1,
     "metadata": {},
     "output_type": "execute_result"
    }
   ],
   "source": [
    "3 + 5\n"
   ]
  },
  {
   "cell_type": "markdown",
   "metadata": {},
   "source": [
    "# LOOPS TEKRAR EDEN YAPILAR"
   ]
  },
  {
   "cell_type": "markdown",
   "metadata": {},
   "source": [
    "## While"
   ]
  },
  {
   "cell_type": "code",
   "execution_count": null,
   "metadata": {},
   "outputs": [],
   "source": [
    "# Koşulu veya içinde bulunduğu durum False olana kadar çalışır.\n",
    "#Kendisinden gelen koşullu ifadeyi kontrol eder.\n",
    "# Burada koşul sürekli True olacağı için sürekli çalışır.\n",
    "#while 10 > 4 :\n",
    "    #print(\"Bu döngü sonsuza gider.\")"
   ]
  },
  {
   "cell_type": "code",
   "execution_count": 2,
   "metadata": {},
   "outputs": [
    {
     "name": "stdout",
     "output_type": "stream",
     "text": [
      "Bu döngü koşul sağlandıkça çalışır.4\n",
      "Bu döngü koşul sağlandıkça çalışır.5\n",
      "Bu döngü koşul sağlandıkça çalışır.6\n",
      "Bu döngü koşul sağlandıkça çalışır.7\n",
      "Bu döngü koşul sağlandıkça çalışır.8\n",
      "Bu döngü koşul sağlandıkça çalışır.9\n"
     ]
    }
   ],
   "source": [
    "x = 4 \n",
    "\n",
    "while 10 > x :\n",
    "    print(f\"Bu döngü koşul sağlandıkça çalışır.{x}\")\n",
    "    x += 1"
   ]
  },
  {
   "cell_type": "code",
   "execution_count": 5,
   "metadata": {},
   "outputs": [
    {
     "name": "stdout",
     "output_type": "stream",
     "text": [
      "2\n",
      "3\n",
      "4\n",
      "5\n",
      "6\n",
      "7\n",
      "8\n",
      "9\n",
      "10\n"
     ]
    }
   ],
   "source": [
    "x = 1 \n",
    "\n",
    "while x < 10:\n",
    "    x = x + 1 \n",
    "    print(x)    # Burada önce artrıp sonra çalıştırdı.\n",
    "     \n",
    "    "
   ]
  },
  {
   "cell_type": "code",
   "execution_count": 6,
   "metadata": {},
   "outputs": [
    {
     "name": "stdout",
     "output_type": "stream",
     "text": [
      "1\n",
      "2\n",
      "3\n",
      "4\n",
      "5\n",
      "6\n",
      "7\n",
      "8\n",
      "9\n"
     ]
    }
   ],
   "source": [
    "x = 1 \n",
    "\n",
    "while x < 10 :\n",
    "    print(x)\n",
    "    x = x + 1 # Burada çalıştırıp sonra arttırdı.\n",
    "    \n",
    "     "
   ]
  },
  {
   "cell_type": "code",
   "execution_count": null,
   "metadata": {},
   "outputs": [],
   "source": [
    "while False :\n",
    "    print(\"Sanki çıktı vermeyecek gibi.\") # Burada koşul False olduğu içir while çıktı vermez."
   ]
  },
  {
   "cell_type": "code",
   "execution_count": 7,
   "metadata": {},
   "outputs": [],
   "source": [
    "while \"\" :\n",
    "    print(\"Çıktı vermez\") # Burada da çıktı vermedi."
   ]
  },
  {
   "cell_type": "code",
   "execution_count": null,
   "metadata": {},
   "outputs": [],
   "source": [
    "x = 1 \n",
    "\n",
    "while True :\n",
    "    print(x, \"sonsuza gider mi acaba\") # Bu döngüde sonsuz\n",
    "    x += 1 "
   ]
  },
  {
   "cell_type": "code",
   "execution_count": 8,
   "metadata": {},
   "outputs": [
    {
     "name": "stdout",
     "output_type": "stream",
     "text": [
      "while döngüsü condision False olana kadar çalışır\n"
     ]
    }
   ],
   "source": [
    "y = 1\n",
    "\n",
    "while y :\n",
    "    print(\"while döngüsü condision False olana kadar çalışır\") # Bir kere çalıştı sonra False ı gördü durdu.\n",
    "    y = False"
   ]
  },
  {
   "cell_type": "code",
   "execution_count": 9,
   "metadata": {},
   "outputs": [
    {
     "name": "stdout",
     "output_type": "stream",
     "text": [
      "while döngüsü condision False olana kadar çalışır\n"
     ]
    }
   ],
   "source": [
    "y = 1\n",
    "\n",
    "while y :\n",
    "    y = False\n",
    "    print(\"while döngüsü condision False olana kadar çalışır\") # Burada while döngüsü bütün kodlarını bitiri sonra başa döner durur."
   ]
  },
  {
   "cell_type": "code",
   "execution_count": 10,
   "metadata": {},
   "outputs": [
    {
     "name": "stdout",
     "output_type": "stream",
     "text": [
      "deneme : 1\n",
      "deneme : 2\n",
      "deneme : 3\n"
     ]
    }
   ],
   "source": [
    "x = 1\n",
    "\n",
    "while x <= 3 :\n",
    "    print(f\"deneme : {x}\") # Burada koşul 3. döngüde sona erdi.\n",
    "    x += 1"
   ]
  },
  {
   "cell_type": "code",
   "execution_count": 11,
   "metadata": {},
   "outputs": [
    {
     "name": "stdout",
     "output_type": "stream",
     "text": [
      "deneme : 1\n",
      "deneme : 2\n",
      "deneme : 3\n",
      "3 deneme hakkın bitti\n"
     ]
    }
   ],
   "source": [
    "x = 1\n",
    "\n",
    "while x <= 3 :\n",
    "    print(f\"deneme : {x}\") # Döngü bittikten sonra diğer kodları okumaya devam eder.\n",
    "    x += 1\n",
    "\n",
    "print(\"3 deneme hakkın bitti\")"
   ]
  },
  {
   "cell_type": "code",
   "execution_count": 13,
   "metadata": {},
   "outputs": [
    {
     "name": "stdout",
     "output_type": "stream",
     "text": [
      "1 karesi : 1\n",
      "2 karesi : 4\n",
      "3 karesi : 9\n",
      "4 karesi : 16\n",
      "5 karesi : 25\n"
     ]
    }
   ],
   "source": [
    "x = 1\n",
    "\n",
    "while x < 6 :\n",
    "    print(f\"{x} karesi : {x ** 2}\" ) \n",
    "    x += 1\n"
   ]
  },
  {
   "cell_type": "code",
   "execution_count": 1,
   "metadata": {},
   "outputs": [
    {
     "name": "stdout",
     "output_type": "stream",
     "text": [
      "Sayı: 70. Tahmini azalt\n",
      "Sayı: 69. Tahmini azalt\n",
      "Sayı: 50. Tahmini Arttır\n",
      "Sayı: 58. Tahmini Arttır\n",
      "Sayı: 67. Tahmini Arttır\n",
      "Sayı: 68. Doğru Bildiniz\n"
     ]
    }
   ],
   "source": [
    "y = True\n",
    "aklimdaki_sayi = 68\n",
    "while y:\n",
    "    tahmin = int(input(\"1 ile 100 arasında bir sayı tahmin et: \"))\n",
    "    if aklimdaki_sayi < tahmin:\n",
    "        print(f\"Sayı: {tahmin}. Tahmini azalt\")\n",
    "    elif aklimdaki_sayi > tahmin:\n",
    "        print(f\"Sayı: {tahmin}. Tahmini Arttır\")\n",
    "    else:\n",
    "        print(f\"Sayı: {tahmin}. Doğru Bildiniz\")\n",
    "        y = False # Bu kodu başka yere yazarsak döngü doğru çalışmaz.\n"
   ]
  },
  {
   "cell_type": "code",
   "execution_count": 2,
   "metadata": {},
   "outputs": [
    {
     "name": "stdout",
     "output_type": "stream",
     "text": [
      "Girdiğiniz sayı: 54. Tahminini arttır\n",
      "Girdiğiniz sayı: 85. Tahminini azalt\n",
      "Girdiğiniz sayı: 69. Tahminini azalt\n",
      "Girdiğiniz sayı: 75. Tahminini azalt\n",
      "Girdiğiniz sayı: 68. 5 kerede bildiniz. Tebrikler.\n"
     ]
    }
   ],
   "source": [
    "y = True\n",
    "\n",
    "aklımdaki_sayı = 68\n",
    "\n",
    "sayaç = 0 # sayaç ekledik.\n",
    "\n",
    "while y:\n",
    "\n",
    "    tahmin = int(input(\"1 ile 100 arasında bir sayı tuttum tahmin et. \"))\n",
    "    sayaç += 1\n",
    "\n",
    "    if aklımdaki_sayı < tahmin:\n",
    "        print(f\"Girdiğiniz sayı: {tahmin}. Tahminini azalt\")\n",
    "\n",
    "    elif aklımdaki_sayı > tahmin: \n",
    "        print(f\"Girdiğiniz sayı: {tahmin}. Tahminini arttır\")\n",
    "\n",
    "    else:\n",
    "        print(f\"Girdiğiniz sayı: {tahmin}. {sayaç} kerede bildiniz. Tebrikler.\")\n",
    "        y = False"
   ]
  },
  {
   "cell_type": "code",
   "execution_count": 10,
   "metadata": {},
   "outputs": [
    {
     "name": "stdout",
     "output_type": "stream",
     "text": [
      "Girdiğiniz sayı: 68. 1 kerede bildiniz. Tebrikler.\n"
     ]
    }
   ],
   "source": [
    "y = True\n",
    "\n",
    "\n",
    "aklımdaki_sayı = 68\n",
    "sayaç = 0\n",
    "\n",
    "while y:\n",
    "    \n",
    "    tahmin = int(input(\"1 ile 100 arasında bir sayı tuttum tahmin et. \"))\n",
    "    sayaç += 1\n",
    "\n",
    "    if aklımdaki_sayı < tahmin:\n",
    "        print(f\"Girdiğiniz sayı: {tahmin}. Tahminini azalt. Kalan hakkınız : {5 - sayaç }\")\n",
    "\n",
    "    elif aklımdaki_sayı > tahmin: \n",
    "        print(f\"Girdiğiniz sayı: {tahmin}. Tahminini arttır. Kalan hakkınız : {5 - sayaç }\")\n",
    "\n",
    "    else:\n",
    "        print(f\"Girdiğiniz sayı: {tahmin}. {sayaç} kerede bildiniz. Tebrikler.\")\n",
    "        y = False\n",
    "    if sayaç == 5 :\n",
    "        print(\"Hakkınız doldu. Kaybettiniz.\")\n",
    "        y = False"
   ]
  },
  {
   "cell_type": "code",
   "execution_count": 8,
   "metadata": {},
   "outputs": [
    {
     "name": "stdout",
     "output_type": "stream",
     "text": [
      "1\n",
      "9\n",
      "16\n",
      "4\n",
      "25\n",
      "49\n",
      "36\n"
     ]
    }
   ],
   "source": [
    "sayılar_listesi = [1, 3, 4, 2, 5, 7, 6] \n",
    "\n",
    "x = 0 \n",
    "\n",
    "while x < len(sayılar_listesi) :\n",
    "    print(sayılar_listesi[x] ** 2)\n",
    "\n",
    "    x += 1\n"
   ]
  },
  {
   "cell_type": "code",
   "execution_count": 16,
   "metadata": {},
   "outputs": [
    {
     "name": "stdout",
     "output_type": "stream",
     "text": [
      "[1, 9, 16, 4, 25, 49, 36]\n"
     ]
    }
   ],
   "source": [
    "sayılar_listesi = [1, 3, 4, 2, 5, 7, 6] \n",
    "list_1 = []\n",
    "x = 0 \n",
    "\n",
    "while x < len(sayılar_listesi) :\n",
    "    list_1.append(sayılar_listesi[x] ** 2)\n",
    "    x += 1\n",
    "print(list_1)\n"
   ]
  },
  {
   "cell_type": "code",
   "execution_count": 18,
   "metadata": {},
   "outputs": [
    {
     "name": "stdout",
     "output_type": "stream",
     "text": [
      "[16, 4, 36]\n"
     ]
    }
   ],
   "source": [
    "sayılar_listesi = [1, 3, 4, 2, 5, 7, 6] \n",
    "list_1 = []\n",
    "x = 0 \n",
    "\n",
    "while x < len(sayılar_listesi) :\n",
    "    if sayılar_listesi[x] % 2 == 0 :\n",
    "        list_1.append(sayılar_listesi[x] ** 2)\n",
    "\n",
    "    x += 1\n",
    "     \n",
    "print(list_1)"
   ]
  },
  {
   "cell_type": "code",
   "execution_count": 3,
   "metadata": {},
   "outputs": [
    {
     "name": "stdout",
     "output_type": "stream",
     "text": [
      "[16, 4, 36]\n"
     ]
    }
   ],
   "source": [
    "sayılar_listesi = [1, 3, 4, 2, 5, 7, 6]\n",
    "\n",
    "kareler_listesi = []\n",
    "\n",
    "x = 0\n",
    "\n",
    "while x < len(sayılar_listesi):\n",
    "\n",
    "    if sayılar_listesi[x] % 2 == 0:\n",
    "\n",
    "        kareler_listesi.append(sayılar_listesi[x] ** 2)\n",
    "\n",
    "    x += 1\n",
    "\n",
    "print(kareler_listesi)"
   ]
  },
  {
   "cell_type": "markdown",
   "metadata": {},
   "source": [
    "[1,5,6,7,12,14,15,18,19,32,25] listesinin tek elemanlarının karesini, çift elemanlarının 2 katını liste halinde döndüren while döngüsünü yazın"
   ]
  },
  {
   "cell_type": "code",
   "execution_count": 19,
   "metadata": {},
   "outputs": [
    {
     "name": "stdout",
     "output_type": "stream",
     "text": [
      "[1, 25, 12, 49, 24, 28, 225, 36, 361, 64, 625]\n"
     ]
    }
   ],
   "source": [
    "liste_3 = [1,5,6,7,12,14,15,18,19,32,25] \n",
    "\n",
    "x = 0 \n",
    "\n",
    "son_liste = []\n",
    "\n",
    "while x < len(liste_3) :\n",
    "    if liste_3[x] % 2 == 0 :\n",
    "        son_liste.append(liste_3[x] * 2)\n",
    "    else :\n",
    "        son_liste.append(liste_3[x] ** 2)\n",
    "    \n",
    "    x += 1\n",
    "\n",
    "print(son_liste)\n",
    "\n",
    "\n",
    "        "
   ]
  },
  {
   "cell_type": "markdown",
   "metadata": {},
   "source": [
    "[1,5,6,7,12,14,15,18,19,32,25] listesinin tek elemanlarının karesini, çift elemanlarının 2 katını liste halinde döndüren while döngüsünü yazın"
   ]
  },
  {
   "cell_type": "code",
   "execution_count": 3,
   "metadata": {},
   "outputs": [
    {
     "name": "stdout",
     "output_type": "stream",
     "text": [
      "[1, 25, 49, 225, 361, 625]\n",
      "[12, 24, 28, 36, 64]\n",
      "[12, 24, 28, 36, 64, 1, 25, 49, 225, 361, 625]\n"
     ]
    }
   ],
   "source": [
    "liste_4 = [1,5,6,7,12,14,15,18,19,32,25]\n",
    "tek_sayılar_karesi = []\n",
    "cift_sayılar_iki_katı = []\n",
    "toplam_sonuc = []\n",
    "h = 0\n",
    "\n",
    "while h < len(liste_4) :\n",
    "    if liste_4[h] % 2 == 0 :\n",
    "        cift_sayılar_iki_katı.append(liste_4[h] * 2)\n",
    "    else :\n",
    "        tek_sayılar_karesi.append(liste_4[h] ** 2)\n",
    "    h += 1\n",
    "print(tek_sayılar_karesi)\n",
    "print(cift_sayılar_iki_katı)\n",
    "toplam_sonuc = cift_sayılar_iki_katı + tek_sayılar_karesi\n",
    "print(toplam_sonuc)\n",
    "\n",
    "\n",
    "    \n"
   ]
  }
 ],
 "metadata": {
  "kernelspec": {
   "display_name": "Python 3",
   "language": "python",
   "name": "python3"
  },
  "language_info": {
   "codemirror_mode": {
    "name": "ipython",
    "version": 3
   },
   "file_extension": ".py",
   "mimetype": "text/x-python",
   "name": "python",
   "nbconvert_exporter": "python",
   "pygments_lexer": "ipython3",
   "version": "3.12.3"
  }
 },
 "nbformat": 4,
 "nbformat_minor": 2
}
