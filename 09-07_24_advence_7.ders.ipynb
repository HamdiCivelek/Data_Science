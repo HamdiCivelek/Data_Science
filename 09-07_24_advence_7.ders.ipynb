{
 "cells": [
  {
   "cell_type": "code",
   "execution_count": 4,
   "metadata": {},
   "outputs": [
    {
     "data": {
      "text/plain": [
       "8"
      ]
     },
     "execution_count": 4,
     "metadata": {},
     "output_type": "execute_result"
    }
   ],
   "source": [
    "3 + 5 "
   ]
  },
  {
   "cell_type": "markdown",
   "metadata": {},
   "source": [
    "Arbitrary Number of arguments(* args, **kwargs)\n",
    "\n",
    " ** kwargs"
   ]
  },
  {
   "cell_type": "code",
   "execution_count": 2,
   "metadata": {},
   "outputs": [
    {
     "data": {
      "text/plain": [
       "{'name1': 'Arzu', 'name2': 'Ömer', 'name3': 'Hamdi'}"
      ]
     },
     "execution_count": 2,
     "metadata": {},
     "output_type": "execute_result"
    }
   ],
   "source": [
    "dict_1 = {\"name1\": \"Arzu\", \"name2\": \"Ömer\", \"name3\": \"Hamdi\"}\n",
    "dict_1"
   ]
  },
  {
   "cell_type": "code",
   "execution_count": 3,
   "metadata": {},
   "outputs": [],
   "source": [
    "def kwargs_function(** names):   # Eğer çağırma formatı dict gibi ise kwargs kullanılır.\n",
    "\n",
    "    for i, j in names.items():\n",
    "\n",
    "        print(f\"key: {i}, value: {j}\")"
   ]
  },
  {
   "cell_type": "code",
   "execution_count": null,
   "metadata": {},
   "outputs": [],
   "source": []
  },
  {
   "cell_type": "code",
   "execution_count": 4,
   "metadata": {},
   "outputs": [
    {
     "name": "stdout",
     "output_type": "stream",
     "text": [
      "key: name4, value: Berk\n",
      "key: name5, value: Ramazan\n",
      "key: name6, value: Yasin\n"
     ]
    }
   ],
   "source": [
    "kwargs_function(name4 = \"Berk\", name5 = \"Ramazan\", name6= \"Yasin\")"
   ]
  },
  {
   "cell_type": "code",
   "execution_count": 5,
   "metadata": {},
   "outputs": [
    {
     "name": "stdout",
     "output_type": "stream",
     "text": [
      "key: name1, value: Arzu\n",
      "key: name2, value: Ömer\n",
      "key: name3, value: Hamdi\n"
     ]
    }
   ],
   "source": [
    "kwargs_function(** dict_1)"
   ]
  },
  {
   "cell_type": "markdown",
   "metadata": {},
   "source": [
    "## filter() Data sience kısmında kullanılabilecek güzel bir fonksiyondur."
   ]
  },
  {
   "cell_type": "code",
   "execution_count": 9,
   "metadata": {},
   "outputs": [
    {
     "name": "stdout",
     "output_type": "stream",
     "text": [
      "Help on class filter in module builtins:\n",
      "\n",
      "class filter(object)\n",
      " |  filter(function or None, iterable) --> filter object\n",
      " |\n",
      " |  Return an iterator yielding those items of iterable for which function(item)\n",
      " |  is true. If function is None, return the items that are true.\n",
      " |\n",
      " |  Methods defined here:\n",
      " |\n",
      " |  __getattribute__(self, name, /)\n",
      " |      Return getattr(self, name).\n",
      " |\n",
      " |  __iter__(self, /)\n",
      " |      Implement iter(self).\n",
      " |\n",
      " |  __next__(self, /)\n",
      " |      Implement next(self).\n",
      " |\n",
      " |  __reduce__(...)\n",
      " |      Return state information for pickling.\n",
      " |\n",
      " |  ----------------------------------------------------------------------\n",
      " |  Static methods defined here:\n",
      " |\n",
      " |  __new__(*args, **kwargs)\n",
      " |      Create and return a new object.  See help(type) for accurate signature.\n",
      "\n"
     ]
    }
   ],
   "source": [
    "help(filter) "
   ]
  },
  {
   "cell_type": "code",
   "execution_count": 10,
   "metadata": {},
   "outputs": [
    {
     "data": {
      "text/plain": [
       "<filter at 0x2615db09600>"
      ]
     },
     "execution_count": 10,
     "metadata": {},
     "output_type": "execute_result"
    }
   ],
   "source": [
    "filter(None, \"Hello\") #Direk böyle çalışır ama çıktı vermez"
   ]
  },
  {
   "cell_type": "code",
   "execution_count": 11,
   "metadata": {},
   "outputs": [
    {
     "data": {
      "text/plain": [
       "['H', 'e', 'l', 'l', 'o']"
      ]
     },
     "execution_count": 11,
     "metadata": {},
     "output_type": "execute_result"
    }
   ],
   "source": [
    "list(filter(None, \"Hello\")) # Burada True olan değerleri döndürdü. Eğer bir fonksiyon kullanmazsak."
   ]
  },
  {
   "cell_type": "code",
   "execution_count": 19,
   "metadata": {},
   "outputs": [
    {
     "data": {
      "text/plain": [
       "[1, 2, True, 'TechPro']"
      ]
     },
     "execution_count": 19,
     "metadata": {},
     "output_type": "execute_result"
    }
   ],
   "source": [
    "list(filter(None, [1,2,0,True, False, \"\", 0.0, \"TechPro\"])) #Burada True olan değerleri dödürdü. Filtreleme yapıyor."
   ]
  },
  {
   "cell_type": "code",
   "execution_count": 13,
   "metadata": {},
   "outputs": [],
   "source": [
    "def find_odds(x):\n",
    "\n",
    "    if x % 2 == 1:\n",
    "        return True\n",
    "    else:\n",
    "        return False"
   ]
  },
  {
   "cell_type": "code",
   "execution_count": 14,
   "metadata": {},
   "outputs": [
    {
     "data": {
      "text/plain": [
       "[1, 3, 5, 7, 9]"
      ]
     },
     "execution_count": 14,
     "metadata": {},
     "output_type": "execute_result"
    }
   ],
   "source": [
    "list(filter(find_odds, [1, 2, 3, 4, 5, 6, 7, 8, 9] )) # Burada yukarıda yazdığımız fonksiyonu filter fonksiyonunda kullandık. True olanlar döndü."
   ]
  },
  {
   "cell_type": "code",
   "execution_count": 15,
   "metadata": {},
   "outputs": [],
   "source": [
    "def find_evens(x):\n",
    "\n",
    "    if x % 2 == 1:\n",
    "        return False\n",
    "    else:\n",
    "        return True"
   ]
  },
  {
   "cell_type": "code",
   "execution_count": 16,
   "metadata": {},
   "outputs": [
    {
     "data": {
      "text/plain": [
       "[2, 4, 6, 8]"
      ]
     },
     "execution_count": 16,
     "metadata": {},
     "output_type": "execute_result"
    }
   ],
   "source": [
    "list(filter(find_evens, [1, 2, 3, 4, 5, 6, 7, 8, 9] )) # Burada çift sayılar True olduğu için Çift sayıları döndürdü. "
   ]
  },
  {
   "cell_type": "code",
   "execution_count": 17,
   "metadata": {},
   "outputs": [],
   "source": [
    "isimler_listesi = [\"Serhat\", \"sedat\", \"Metehan\", \"Bahar\", \"cennet\", \"Bilge\" ]"
   ]
  },
  {
   "cell_type": "code",
   "execution_count": 5,
   "metadata": {},
   "outputs": [],
   "source": [
    "def bes_eleman(x):                \n",
    "        if len(x) == 5 :\n",
    "            print(x)\n",
    "        \n",
    "\n"
   ]
  },
  {
   "cell_type": "code",
   "execution_count": 19,
   "metadata": {},
   "outputs": [
    {
     "data": {
      "text/plain": [
       "['sedat', 'Bahar', 'Bilge']"
      ]
     },
     "execution_count": 19,
     "metadata": {},
     "output_type": "execute_result"
    }
   ],
   "source": [
    "list(filter(bes_eleman, isimler_listesi )) # Burada direk listeler isminden döndürdü."
   ]
  },
  {
   "cell_type": "code",
   "execution_count": 24,
   "metadata": {},
   "outputs": [],
   "source": [
    "def isArmstrong(sayı):\n",
    "\n",
    "    sayı = str(sayı)\n",
    "    return sum([ int(i) ** len(sayı)  for i in sayı]) == int(sayı)\n"
   ]
  },
  {
   "cell_type": "code",
   "execution_count": 26,
   "metadata": {},
   "outputs": [
    {
     "data": {
      "text/plain": [
       "True"
      ]
     },
     "execution_count": 26,
     "metadata": {},
     "output_type": "execute_result"
    }
   ],
   "source": [
    "isArmstrong(407)"
   ]
  },
  {
   "cell_type": "code",
   "execution_count": 27,
   "metadata": {},
   "outputs": [
    {
     "data": {
      "text/plain": [
       "[153, 370, 371, 407, 1634, 8208, 9474, 54748, 92727, 93084, 548834]"
      ]
     },
     "execution_count": 27,
     "metadata": {},
     "output_type": "execute_result"
    }
   ],
   "source": [
    "list(filter(isArmstrong, range(10, 1000000)))"
   ]
  },
  {
   "cell_type": "markdown",
   "metadata": {},
   "source": [
    " # lambda()"
   ]
  },
  {
   "cell_type": "code",
   "execution_count": 28,
   "metadata": {},
   "outputs": [
    {
     "data": {
      "text/plain": [
       "<function __main__.<lambda>(x, y)>"
      ]
     },
     "execution_count": 28,
     "metadata": {},
     "output_type": "execute_result"
    }
   ],
   "source": [
    "lambda x, y : x ** 2  + y ** 2 # ram bellekte yer kaplamak istemiyorsak lambda fonksiyonu kullanırız."
   ]
  },
  {
   "cell_type": "code",
   "execution_count": 29,
   "metadata": {},
   "outputs": [
    {
     "data": {
      "text/plain": [
       "25"
      ]
     },
     "execution_count": 29,
     "metadata": {},
     "output_type": "execute_result"
    }
   ],
   "source": [
    "(lambda x, y : x ** 2  + y ** 2)(4, 3) #Bir kere kullandık ve başka yerde kullanamayacağız. Eğer değişkene atamassak"
   ]
  },
  {
   "cell_type": "code",
   "execution_count": 30,
   "metadata": {},
   "outputs": [
    {
     "ename": "TypeError",
     "evalue": "<lambda>() missing 1 required positional argument: 'y'",
     "output_type": "error",
     "traceback": [
      "\u001b[1;31m---------------------------------------------------------------------------\u001b[0m",
      "\u001b[1;31mTypeError\u001b[0m                                 Traceback (most recent call last)",
      "Cell \u001b[1;32mIn[30], line 1\u001b[0m\n\u001b[1;32m----> 1\u001b[0m \u001b[43m(\u001b[49m\u001b[38;5;28;43;01mlambda\u001b[39;49;00m\u001b[43m \u001b[49m\u001b[43mx\u001b[49m\u001b[43m,\u001b[49m\u001b[43m \u001b[49m\u001b[43my\u001b[49m\u001b[43m \u001b[49m\u001b[43m:\u001b[49m\u001b[43m \u001b[49m\u001b[43mx\u001b[49m\u001b[43m \u001b[49m\u001b[38;5;241;43m*\u001b[39;49m\u001b[38;5;241;43m*\u001b[39;49m\u001b[43m \u001b[49m\u001b[38;5;241;43m2\u001b[39;49m\u001b[43m  \u001b[49m\u001b[38;5;241;43m+\u001b[39;49m\u001b[43m \u001b[49m\u001b[43my\u001b[49m\u001b[43m \u001b[49m\u001b[38;5;241;43m*\u001b[39;49m\u001b[38;5;241;43m*\u001b[39;49m\u001b[43m \u001b[49m\u001b[38;5;241;43m2\u001b[39;49m\u001b[43m)\u001b[49m\u001b[43m(\u001b[49m\u001b[38;5;241;43m4\u001b[39;49m\u001b[43m,\u001b[49m\u001b[43m \u001b[49m\u001b[43m)\u001b[49m\n",
      "\u001b[1;31mTypeError\u001b[0m: <lambda>() missing 1 required positional argument: 'y'"
     ]
    }
   ],
   "source": [
    "(lambda x, y : x ** 2  + y ** 2)(4, ) # Burada eksik argüman kullnadık hata verdi."
   ]
  },
  {
   "cell_type": "code",
   "execution_count": null,
   "metadata": {},
   "outputs": [],
   "source": [
    "def kareler_toplamı(x, y):\n",
    "    return x ** 2 + y ** 2"
   ]
  },
  {
   "cell_type": "code",
   "execution_count": 31,
   "metadata": {},
   "outputs": [
    {
     "data": {
      "text/plain": [
       "25"
      ]
     },
     "execution_count": 31,
     "metadata": {},
     "output_type": "execute_result"
    }
   ],
   "source": [
    "(lambda x, y: x ** 2 + y ** 2)(4, 3)"
   ]
  },
  {
   "cell_type": "code",
   "execution_count": 17,
   "metadata": {},
   "outputs": [
    {
     "data": {
      "text/plain": [
       "15"
      ]
     },
     "execution_count": 17,
     "metadata": {},
     "output_type": "execute_result"
    }
   ],
   "source": [
    "(lambda x : x ** 2 + x * 2)(3)"
   ]
  },
  {
   "cell_type": "code",
   "execution_count": null,
   "metadata": {},
   "outputs": [],
   "source": [
    "def len_5(x):\n",
    "\n",
    "    if len(x) == 5: return True"
   ]
  },
  {
   "cell_type": "code",
   "execution_count": 32,
   "metadata": {},
   "outputs": [
    {
     "data": {
      "text/plain": [
       "True"
      ]
     },
     "execution_count": 32,
     "metadata": {},
     "output_type": "execute_result"
    }
   ],
   "source": [
    "(lambda x : len(x) == 5)(\"Hamdi\")"
   ]
  },
  {
   "cell_type": "code",
   "execution_count": 35,
   "metadata": {},
   "outputs": [
    {
     "data": {
      "text/plain": [
       "['sedat', 'Bahar', 'Bilge']"
      ]
     },
     "execution_count": 35,
     "metadata": {},
     "output_type": "execute_result"
    }
   ],
   "source": [
    "list(filter((lambda x : len(x) == 5), isimler_listesi)) "
   ]
  },
  {
   "cell_type": "code",
   "execution_count": 37,
   "metadata": {},
   "outputs": [
    {
     "data": {
      "text/plain": [
       "[1, 3, 5]"
      ]
     },
     "execution_count": 37,
     "metadata": {},
     "output_type": "execute_result"
    }
   ],
   "source": [
    "list(filter((lambda x: x % 2 == 1), [1,2,3,4,5]))"
   ]
  },
  {
   "cell_type": "code",
   "execution_count": 18,
   "metadata": {},
   "outputs": [],
   "source": [
    "tek_sayi_ayiklatici = (lambda x: x % 2 == 1), [1,2,3,4,5]"
   ]
  },
  {
   "cell_type": "code",
   "execution_count": 51,
   "metadata": {},
   "outputs": [
    {
     "data": {
      "text/plain": [
       "True"
      ]
     },
     "execution_count": 51,
     "metadata": {},
     "output_type": "execute_result"
    }
   ],
   "source": [
    "(lambda x : x.lower() == x[::-1].lower())(\"neveroddoreven\")"
   ]
  },
  {
   "cell_type": "code",
   "execution_count": 52,
   "metadata": {},
   "outputs": [
    {
     "ename": "ModuleNotFoundError",
     "evalue": "No module named 'pandas'",
     "output_type": "error",
     "traceback": [
      "\u001b[1;31m---------------------------------------------------------------------------\u001b[0m",
      "\u001b[1;31mModuleNotFoundError\u001b[0m                       Traceback (most recent call last)",
      "Cell \u001b[1;32mIn[52], line 1\u001b[0m\n\u001b[1;32m----> 1\u001b[0m \u001b[38;5;28;01mimport\u001b[39;00m \u001b[38;5;21;01mpandas\u001b[39;00m \u001b[38;5;28;01mas\u001b[39;00m \u001b[38;5;21;01mpd\u001b[39;00m\n",
      "\u001b[1;31mModuleNotFoundError\u001b[0m: No module named 'pandas'"
     ]
    }
   ],
   "source": [
    "import pandas as pd"
   ]
  },
  {
   "cell_type": "code",
   "execution_count": 53,
   "metadata": {},
   "outputs": [
    {
     "name": "stdout",
     "output_type": "stream",
     "text": [
      "Collecting pandas\n",
      "  Downloading pandas-2.2.2-cp312-cp312-win_amd64.whl.metadata (19 kB)\n",
      "Collecting numpy>=1.26.0 (from pandas)\n",
      "  Downloading numpy-2.0.0-cp312-cp312-win_amd64.whl.metadata (60 kB)\n",
      "     ---------------------------------------- 0.0/60.9 kB ? eta -:--:--\n",
      "     ------ --------------------------------- 10.2/60.9 kB ? eta -:--:--\n",
      "     ------------------------- ------------ 41.0/60.9 kB 653.6 kB/s eta 0:00:01\n",
      "     -------------------------------------- 60.9/60.9 kB 804.1 kB/s eta 0:00:00\n",
      "Requirement already satisfied: python-dateutil>=2.8.2 in c:\\users\\hamdi\\appdata\\roaming\\python\\python312\\site-packages (from pandas) (2.9.0.post0)\n",
      "Collecting pytz>=2020.1 (from pandas)\n",
      "  Downloading pytz-2024.1-py2.py3-none-any.whl.metadata (22 kB)\n",
      "Collecting tzdata>=2022.7 (from pandas)\n",
      "  Downloading tzdata-2024.1-py2.py3-none-any.whl.metadata (1.4 kB)\n",
      "Requirement already satisfied: six>=1.5 in c:\\users\\hamdi\\appdata\\roaming\\python\\python312\\site-packages (from python-dateutil>=2.8.2->pandas) (1.16.0)\n",
      "Downloading pandas-2.2.2-cp312-cp312-win_amd64.whl (11.5 MB)\n",
      "   ---------------------------------------- 0.0/11.5 MB ? eta -:--:--\n",
      "   ---------------------------------------- 0.1/11.5 MB 3.2 MB/s eta 0:00:04\n",
      "   ---------------------------------------- 0.1/11.5 MB 3.2 MB/s eta 0:00:04\n",
      "   ---------------------------------------- 0.1/11.5 MB 558.5 kB/s eta 0:00:21\n",
      "   ---------------------------------------- 0.1/11.5 MB 944.1 kB/s eta 0:00:13\n",
      "    --------------------------------------- 0.2/11.5 MB 1.1 MB/s eta 0:00:10\n",
      "    --------------------------------------- 0.3/11.5 MB 1.4 MB/s eta 0:00:09\n",
      "   - -------------------------------------- 0.4/11.5 MB 1.6 MB/s eta 0:00:08\n",
      "   - -------------------------------------- 0.5/11.5 MB 1.7 MB/s eta 0:00:07\n",
      "   -- ------------------------------------- 0.6/11.5 MB 1.8 MB/s eta 0:00:06\n",
      "   -- ------------------------------------- 0.7/11.5 MB 1.9 MB/s eta 0:00:06\n",
      "   -- ------------------------------------- 0.8/11.5 MB 2.1 MB/s eta 0:00:06\n",
      "   --- ------------------------------------ 1.0/11.5 MB 2.2 MB/s eta 0:00:05\n",
      "   --- ------------------------------------ 1.1/11.5 MB 2.2 MB/s eta 0:00:05\n",
      "   ---- ----------------------------------- 1.2/11.5 MB 2.4 MB/s eta 0:00:05\n",
      "   ---- ----------------------------------- 1.3/11.5 MB 2.5 MB/s eta 0:00:05\n",
      "   ----- ---------------------------------- 1.5/11.5 MB 2.5 MB/s eta 0:00:04\n",
      "   ----- ---------------------------------- 1.6/11.5 MB 2.6 MB/s eta 0:00:04\n",
      "   ----- ---------------------------------- 1.6/11.5 MB 2.7 MB/s eta 0:00:04\n",
      "   ------ --------------------------------- 1.7/11.5 MB 2.6 MB/s eta 0:00:04\n",
      "   ------ --------------------------------- 1.9/11.5 MB 2.6 MB/s eta 0:00:04\n",
      "   ------- -------------------------------- 2.0/11.5 MB 2.7 MB/s eta 0:00:04\n",
      "   ------- -------------------------------- 2.2/11.5 MB 2.8 MB/s eta 0:00:04\n",
      "   -------- ------------------------------- 2.4/11.5 MB 2.9 MB/s eta 0:00:04\n",
      "   --------- ------------------------------ 2.6/11.5 MB 3.0 MB/s eta 0:00:03\n",
      "   --------- ------------------------------ 2.8/11.5 MB 3.1 MB/s eta 0:00:03\n",
      "   ---------- ----------------------------- 3.0/11.5 MB 3.2 MB/s eta 0:00:03\n",
      "   ----------- ---------------------------- 3.2/11.5 MB 3.3 MB/s eta 0:00:03\n",
      "   ------------ --------------------------- 3.5/11.5 MB 3.4 MB/s eta 0:00:03\n",
      "   ------------ --------------------------- 3.7/11.5 MB 3.5 MB/s eta 0:00:03\n",
      "   ------------- -------------------------- 3.9/11.5 MB 3.6 MB/s eta 0:00:03\n",
      "   -------------- ------------------------- 4.2/11.5 MB 3.7 MB/s eta 0:00:02\n",
      "   --------------- ------------------------ 4.5/11.5 MB 3.8 MB/s eta 0:00:02\n",
      "   ---------------- ----------------------- 4.7/11.5 MB 4.0 MB/s eta 0:00:02\n",
      "   ----------------- ---------------------- 5.0/11.5 MB 4.1 MB/s eta 0:00:02\n",
      "   ------------------ --------------------- 5.2/11.5 MB 4.1 MB/s eta 0:00:02\n",
      "   ------------------- -------------------- 5.5/11.5 MB 4.2 MB/s eta 0:00:02\n",
      "   -------------------- ------------------- 5.8/11.5 MB 4.4 MB/s eta 0:00:02\n",
      "   --------------------- ------------------ 6.1/11.5 MB 4.5 MB/s eta 0:00:02\n",
      "   ---------------------- ----------------- 6.4/11.5 MB 4.6 MB/s eta 0:00:02\n",
      "   ----------------------- ---------------- 6.8/11.5 MB 4.7 MB/s eta 0:00:01\n",
      "   ------------------------ --------------- 7.2/11.5 MB 4.8 MB/s eta 0:00:01\n",
      "   -------------------------- ------------- 7.6/11.5 MB 5.0 MB/s eta 0:00:01\n",
      "   --------------------------- ------------ 7.9/11.5 MB 5.1 MB/s eta 0:00:01\n",
      "   ---------------------------- ----------- 8.3/11.5 MB 5.2 MB/s eta 0:00:01\n",
      "   ------------------------------ --------- 8.6/11.5 MB 5.3 MB/s eta 0:00:01\n",
      "   ------------------------------- -------- 9.0/11.5 MB 5.4 MB/s eta 0:00:01\n",
      "   -------------------------------- ------- 9.5/11.5 MB 5.6 MB/s eta 0:00:01\n",
      "   ---------------------------------- ----- 9.9/11.5 MB 5.7 MB/s eta 0:00:01\n",
      "   ----------------------------------- ---- 10.3/11.5 MB 6.2 MB/s eta 0:00:01\n",
      "   ------------------------------------- -- 10.8/11.5 MB 6.8 MB/s eta 0:00:01\n",
      "   ---------------------------------------  11.2/11.5 MB 7.4 MB/s eta 0:00:01\n",
      "   ---------------------------------------  11.5/11.5 MB 7.6 MB/s eta 0:00:01\n",
      "   ---------------------------------------- 11.5/11.5 MB 7.5 MB/s eta 0:00:00\n",
      "Downloading numpy-2.0.0-cp312-cp312-win_amd64.whl (16.2 MB)\n",
      "   ---------------------------------------- 0.0/16.2 MB ? eta -:--:--\n",
      "   - -------------------------------------- 0.5/16.2 MB 15.2 MB/s eta 0:00:02\n",
      "   -- ------------------------------------- 0.9/16.2 MB 15.0 MB/s eta 0:00:02\n",
      "   --- ------------------------------------ 1.4/16.2 MB 14.9 MB/s eta 0:00:01\n",
      "   ---- ----------------------------------- 1.9/16.2 MB 13.3 MB/s eta 0:00:02\n",
      "   ----- ---------------------------------- 2.3/16.2 MB 13.6 MB/s eta 0:00:02\n",
      "   ------ --------------------------------- 2.8/16.2 MB 13.7 MB/s eta 0:00:01\n",
      "   -------- ------------------------------- 3.2/16.2 MB 12.9 MB/s eta 0:00:02\n",
      "   --------- ------------------------------ 3.7/16.2 MB 13.3 MB/s eta 0:00:01\n",
      "   ---------- ----------------------------- 4.2/16.2 MB 13.3 MB/s eta 0:00:01\n",
      "   ----------- ---------------------------- 4.6/16.2 MB 12.9 MB/s eta 0:00:01\n",
      "   ------------ --------------------------- 5.1/16.2 MB 13.0 MB/s eta 0:00:01\n",
      "   ------------- -------------------------- 5.5/16.2 MB 13.1 MB/s eta 0:00:01\n",
      "   -------------- ------------------------- 6.0/16.2 MB 13.3 MB/s eta 0:00:01\n",
      "   --------------- ------------------------ 6.4/16.2 MB 12.9 MB/s eta 0:00:01\n",
      "   --------------- ------------------------ 6.4/16.2 MB 12.9 MB/s eta 0:00:01\n",
      "   ---------------- ----------------------- 6.8/16.2 MB 12.1 MB/s eta 0:00:01\n",
      "   ------------------ --------------------- 7.3/16.2 MB 12.0 MB/s eta 0:00:01\n",
      "   ------------------- -------------------- 7.8/16.2 MB 12.1 MB/s eta 0:00:01\n",
      "   -------------------- ------------------- 8.2/16.2 MB 12.1 MB/s eta 0:00:01\n",
      "   --------------------- ------------------ 8.7/16.2 MB 12.1 MB/s eta 0:00:01\n",
      "   ---------------------- ----------------- 9.1/16.2 MB 12.2 MB/s eta 0:00:01\n",
      "   ---------------------- ----------------- 9.2/16.2 MB 12.2 MB/s eta 0:00:01\n",
      "   ----------------------- ---------------- 9.7/16.2 MB 11.7 MB/s eta 0:00:01\n",
      "   ------------------------- -------------- 10.1/16.2 MB 11.8 MB/s eta 0:00:01\n",
      "   -------------------------- ------------- 10.6/16.2 MB 11.5 MB/s eta 0:00:01\n",
      "   --------------------------- ------------ 11.0/16.2 MB 11.5 MB/s eta 0:00:01\n",
      "   ---------------------------- ----------- 11.6/16.2 MB 11.7 MB/s eta 0:00:01\n",
      "   ----------------------------- ---------- 12.0/16.2 MB 11.5 MB/s eta 0:00:01\n",
      "   ------------------------------ --------- 12.4/16.2 MB 11.5 MB/s eta 0:00:01\n",
      "   ------------------------------- -------- 12.9/16.2 MB 11.7 MB/s eta 0:00:01\n",
      "   -------------------------------- ------- 13.4/16.2 MB 11.5 MB/s eta 0:00:01\n",
      "   ---------------------------------- ----- 13.8/16.2 MB 11.5 MB/s eta 0:00:01\n",
      "   ----------------------------------- ---- 14.2/16.2 MB 11.5 MB/s eta 0:00:01\n",
      "   ------------------------------------ --- 14.7/16.2 MB 11.5 MB/s eta 0:00:01\n",
      "   ------------------------------------- -- 15.2/16.2 MB 11.5 MB/s eta 0:00:01\n",
      "   -------------------------------------- - 15.7/16.2 MB 11.5 MB/s eta 0:00:01\n",
      "   ---------------------------------------  16.1/16.2 MB 11.5 MB/s eta 0:00:01\n",
      "   ---------------------------------------  16.2/16.2 MB 11.5 MB/s eta 0:00:01\n",
      "   ---------------------------------------- 16.2/16.2 MB 11.1 MB/s eta 0:00:00\n",
      "Downloading pytz-2024.1-py2.py3-none-any.whl (505 kB)\n",
      "   ---------------------------------------- 0.0/505.5 kB ? eta -:--:--\n",
      "   ------------------------------------- - 481.3/505.5 kB 14.7 MB/s eta 0:00:01\n",
      "   --------------------------------------- 505.5/505.5 kB 10.5 MB/s eta 0:00:00\n",
      "Downloading tzdata-2024.1-py2.py3-none-any.whl (345 kB)\n",
      "   ---------------------------------------- 0.0/345.4 kB ? eta -:--:--\n",
      "   --------------------------------------- 345.4/345.4 kB 10.8 MB/s eta 0:00:00\n",
      "Installing collected packages: pytz, tzdata, numpy, pandas\n",
      "Successfully installed numpy-2.0.0 pandas-2.2.2 pytz-2024.1 tzdata-2024.1\n",
      "Note: you may need to restart the kernel to use updated packages.\n"
     ]
    },
    {
     "name": "stderr",
     "output_type": "stream",
     "text": [
      "\n",
      "[notice] A new release of pip is available: 24.0 -> 24.1.1\n",
      "[notice] To update, run: python.exe -m pip install --upgrade pip\n"
     ]
    }
   ],
   "source": [
    "pip install pandas"
   ]
  },
  {
   "cell_type": "code",
   "execution_count": 54,
   "metadata": {},
   "outputs": [],
   "source": [
    "import pandas as pd"
   ]
  },
  {
   "cell_type": "code",
   "execution_count": 55,
   "metadata": {},
   "outputs": [],
   "source": [
    "df = pd.read_csv(\"adult_eda.csv\")"
   ]
  },
  {
   "cell_type": "code",
   "execution_count": 56,
   "metadata": {},
   "outputs": [
    {
     "data": {
      "text/html": [
       "<div>\n",
       "<style scoped>\n",
       "    .dataframe tbody tr th:only-of-type {\n",
       "        vertical-align: middle;\n",
       "    }\n",
       "\n",
       "    .dataframe tbody tr th {\n",
       "        vertical-align: top;\n",
       "    }\n",
       "\n",
       "    .dataframe thead th {\n",
       "        text-align: right;\n",
       "    }\n",
       "</style>\n",
       "<table border=\"1\" class=\"dataframe\">\n",
       "  <thead>\n",
       "    <tr style=\"text-align: right;\">\n",
       "      <th></th>\n",
       "      <th>age</th>\n",
       "      <th>workclass</th>\n",
       "      <th>fnlwgt</th>\n",
       "      <th>education</th>\n",
       "      <th>education-num</th>\n",
       "      <th>marital-status</th>\n",
       "      <th>occupation</th>\n",
       "      <th>relationship</th>\n",
       "      <th>race</th>\n",
       "      <th>sex</th>\n",
       "      <th>capital-gain</th>\n",
       "      <th>capital-loss</th>\n",
       "      <th>hours-per-week</th>\n",
       "      <th>native-country</th>\n",
       "      <th>salary</th>\n",
       "    </tr>\n",
       "  </thead>\n",
       "  <tbody>\n",
       "    <tr>\n",
       "      <th>0</th>\n",
       "      <td>39</td>\n",
       "      <td>State-gov</td>\n",
       "      <td>77516</td>\n",
       "      <td>Bachelors</td>\n",
       "      <td>13.0</td>\n",
       "      <td>Never-married</td>\n",
       "      <td>Adm-clerical</td>\n",
       "      <td>Not-in-family</td>\n",
       "      <td>White</td>\n",
       "      <td>Male</td>\n",
       "      <td>2174</td>\n",
       "      <td>0</td>\n",
       "      <td>40</td>\n",
       "      <td>United-States</td>\n",
       "      <td>&lt;=50K</td>\n",
       "    </tr>\n",
       "    <tr>\n",
       "      <th>1</th>\n",
       "      <td>50</td>\n",
       "      <td>Self-emp-not-inc</td>\n",
       "      <td>83311</td>\n",
       "      <td>Bachelors</td>\n",
       "      <td>13.0</td>\n",
       "      <td>Married-civ-spouse</td>\n",
       "      <td>Exec-managerial</td>\n",
       "      <td>Husband</td>\n",
       "      <td>White</td>\n",
       "      <td>Male</td>\n",
       "      <td>0</td>\n",
       "      <td>0</td>\n",
       "      <td>13</td>\n",
       "      <td>United-States</td>\n",
       "      <td>&lt;=50K</td>\n",
       "    </tr>\n",
       "    <tr>\n",
       "      <th>2</th>\n",
       "      <td>38</td>\n",
       "      <td>Private</td>\n",
       "      <td>215646</td>\n",
       "      <td>HS-grad</td>\n",
       "      <td>9.0</td>\n",
       "      <td>Divorced</td>\n",
       "      <td>Handlers-cleaners</td>\n",
       "      <td>Not-in-family</td>\n",
       "      <td>White</td>\n",
       "      <td>Male</td>\n",
       "      <td>0</td>\n",
       "      <td>0</td>\n",
       "      <td>40</td>\n",
       "      <td>United-States</td>\n",
       "      <td>&lt;=50K</td>\n",
       "    </tr>\n",
       "    <tr>\n",
       "      <th>3</th>\n",
       "      <td>53</td>\n",
       "      <td>Private</td>\n",
       "      <td>234721</td>\n",
       "      <td>11th</td>\n",
       "      <td>7.0</td>\n",
       "      <td>Married-civ-spouse</td>\n",
       "      <td>Handlers-cleaners</td>\n",
       "      <td>Husband</td>\n",
       "      <td>Black</td>\n",
       "      <td>Male</td>\n",
       "      <td>0</td>\n",
       "      <td>0</td>\n",
       "      <td>40</td>\n",
       "      <td>United-States</td>\n",
       "      <td>&lt;=50K</td>\n",
       "    </tr>\n",
       "    <tr>\n",
       "      <th>4</th>\n",
       "      <td>28</td>\n",
       "      <td>Private</td>\n",
       "      <td>338409</td>\n",
       "      <td>Bachelors</td>\n",
       "      <td>13.0</td>\n",
       "      <td>Married-civ-spouse</td>\n",
       "      <td>Prof-specialty</td>\n",
       "      <td>Wife</td>\n",
       "      <td>Black</td>\n",
       "      <td>Female</td>\n",
       "      <td>0</td>\n",
       "      <td>0</td>\n",
       "      <td>40</td>\n",
       "      <td>Cuba</td>\n",
       "      <td>&lt;=50K</td>\n",
       "    </tr>\n",
       "    <tr>\n",
       "      <th>...</th>\n",
       "      <td>...</td>\n",
       "      <td>...</td>\n",
       "      <td>...</td>\n",
       "      <td>...</td>\n",
       "      <td>...</td>\n",
       "      <td>...</td>\n",
       "      <td>...</td>\n",
       "      <td>...</td>\n",
       "      <td>...</td>\n",
       "      <td>...</td>\n",
       "      <td>...</td>\n",
       "      <td>...</td>\n",
       "      <td>...</td>\n",
       "      <td>...</td>\n",
       "      <td>...</td>\n",
       "    </tr>\n",
       "    <tr>\n",
       "      <th>32556</th>\n",
       "      <td>27</td>\n",
       "      <td>Private</td>\n",
       "      <td>257302</td>\n",
       "      <td>Assoc-acdm</td>\n",
       "      <td>12.0</td>\n",
       "      <td>Married-civ-spouse</td>\n",
       "      <td>Tech-support</td>\n",
       "      <td>Wife</td>\n",
       "      <td>White</td>\n",
       "      <td>Female</td>\n",
       "      <td>0</td>\n",
       "      <td>0</td>\n",
       "      <td>38</td>\n",
       "      <td>United-States</td>\n",
       "      <td>&lt;=50K</td>\n",
       "    </tr>\n",
       "    <tr>\n",
       "      <th>32557</th>\n",
       "      <td>40</td>\n",
       "      <td>Private</td>\n",
       "      <td>154374</td>\n",
       "      <td>HS-grad</td>\n",
       "      <td>9.0</td>\n",
       "      <td>Married-civ-spouse</td>\n",
       "      <td>Machine-op-inspct</td>\n",
       "      <td>Husband</td>\n",
       "      <td>White</td>\n",
       "      <td>Male</td>\n",
       "      <td>0</td>\n",
       "      <td>0</td>\n",
       "      <td>40</td>\n",
       "      <td>United-States</td>\n",
       "      <td>&gt;50K</td>\n",
       "    </tr>\n",
       "    <tr>\n",
       "      <th>32558</th>\n",
       "      <td>58</td>\n",
       "      <td>Private</td>\n",
       "      <td>151910</td>\n",
       "      <td>HS-grad</td>\n",
       "      <td>9.0</td>\n",
       "      <td>Widowed</td>\n",
       "      <td>Adm-clerical</td>\n",
       "      <td>Unmarried</td>\n",
       "      <td>White</td>\n",
       "      <td>Female</td>\n",
       "      <td>0</td>\n",
       "      <td>0</td>\n",
       "      <td>40</td>\n",
       "      <td>United-States</td>\n",
       "      <td>&lt;=50K</td>\n",
       "    </tr>\n",
       "    <tr>\n",
       "      <th>32559</th>\n",
       "      <td>22</td>\n",
       "      <td>Private</td>\n",
       "      <td>201490</td>\n",
       "      <td>HS-grad</td>\n",
       "      <td>9.0</td>\n",
       "      <td>Never-married</td>\n",
       "      <td>Adm-clerical</td>\n",
       "      <td>NaN</td>\n",
       "      <td>White</td>\n",
       "      <td>Male</td>\n",
       "      <td>0</td>\n",
       "      <td>0</td>\n",
       "      <td>20</td>\n",
       "      <td>United-States</td>\n",
       "      <td>&lt;=50K</td>\n",
       "    </tr>\n",
       "    <tr>\n",
       "      <th>32560</th>\n",
       "      <td>52</td>\n",
       "      <td>Self-emp-inc</td>\n",
       "      <td>287927</td>\n",
       "      <td>HS-grad</td>\n",
       "      <td>9.0</td>\n",
       "      <td>Married-civ-spouse</td>\n",
       "      <td>Exec-managerial</td>\n",
       "      <td>Wife</td>\n",
       "      <td>White</td>\n",
       "      <td>Female</td>\n",
       "      <td>15024</td>\n",
       "      <td>0</td>\n",
       "      <td>40</td>\n",
       "      <td>United-States</td>\n",
       "      <td>&gt;50K</td>\n",
       "    </tr>\n",
       "  </tbody>\n",
       "</table>\n",
       "<p>32561 rows × 15 columns</p>\n",
       "</div>"
      ],
      "text/plain": [
       "       age         workclass  fnlwgt   education  education-num  \\\n",
       "0       39         State-gov   77516   Bachelors           13.0   \n",
       "1       50  Self-emp-not-inc   83311   Bachelors           13.0   \n",
       "2       38           Private  215646     HS-grad            9.0   \n",
       "3       53           Private  234721        11th            7.0   \n",
       "4       28           Private  338409   Bachelors           13.0   \n",
       "...    ...               ...     ...         ...            ...   \n",
       "32556   27           Private  257302  Assoc-acdm           12.0   \n",
       "32557   40           Private  154374     HS-grad            9.0   \n",
       "32558   58           Private  151910     HS-grad            9.0   \n",
       "32559   22           Private  201490     HS-grad            9.0   \n",
       "32560   52      Self-emp-inc  287927     HS-grad            9.0   \n",
       "\n",
       "           marital-status         occupation   relationship   race     sex  \\\n",
       "0           Never-married       Adm-clerical  Not-in-family  White    Male   \n",
       "1      Married-civ-spouse    Exec-managerial        Husband  White    Male   \n",
       "2                Divorced  Handlers-cleaners  Not-in-family  White    Male   \n",
       "3      Married-civ-spouse  Handlers-cleaners        Husband  Black    Male   \n",
       "4      Married-civ-spouse     Prof-specialty           Wife  Black  Female   \n",
       "...                   ...                ...            ...    ...     ...   \n",
       "32556  Married-civ-spouse       Tech-support           Wife  White  Female   \n",
       "32557  Married-civ-spouse  Machine-op-inspct        Husband  White    Male   \n",
       "32558             Widowed       Adm-clerical      Unmarried  White  Female   \n",
       "32559       Never-married       Adm-clerical            NaN  White    Male   \n",
       "32560  Married-civ-spouse    Exec-managerial           Wife  White  Female   \n",
       "\n",
       "       capital-gain  capital-loss  hours-per-week native-country salary  \n",
       "0              2174             0              40  United-States  <=50K  \n",
       "1                 0             0              13  United-States  <=50K  \n",
       "2                 0             0              40  United-States  <=50K  \n",
       "3                 0             0              40  United-States  <=50K  \n",
       "4                 0             0              40           Cuba  <=50K  \n",
       "...             ...           ...             ...            ...    ...  \n",
       "32556             0             0              38  United-States  <=50K  \n",
       "32557             0             0              40  United-States   >50K  \n",
       "32558             0             0              40  United-States  <=50K  \n",
       "32559             0             0              20  United-States  <=50K  \n",
       "32560         15024             0              40  United-States   >50K  \n",
       "\n",
       "[32561 rows x 15 columns]"
      ]
     },
     "execution_count": 56,
     "metadata": {},
     "output_type": "execute_result"
    }
   ],
   "source": [
    "df"
   ]
  },
  {
   "cell_type": "code",
   "execution_count": 57,
   "metadata": {},
   "outputs": [
    {
     "data": {
      "text/plain": [
       "0          Male\n",
       "1          Male\n",
       "2          Male\n",
       "3          Male\n",
       "4        Female\n",
       "          ...  \n",
       "32556    Female\n",
       "32557      Male\n",
       "32558    Female\n",
       "32559      Male\n",
       "32560    Female\n",
       "Name: sex, Length: 32561, dtype: object"
      ]
     },
     "execution_count": 57,
     "metadata": {},
     "output_type": "execute_result"
    }
   ],
   "source": [
    "df.sex"
   ]
  },
  {
   "cell_type": "code",
   "execution_count": 58,
   "metadata": {},
   "outputs": [
    {
     "data": {
      "text/plain": [
       "0        0\n",
       "1        0\n",
       "2        0\n",
       "3        0\n",
       "4        1\n",
       "        ..\n",
       "32556    1\n",
       "32557    0\n",
       "32558    1\n",
       "32559    0\n",
       "32560    1\n",
       "Name: sex, Length: 32561, dtype: int64"
      ]
     },
     "execution_count": 58,
     "metadata": {},
     "output_type": "execute_result"
    }
   ],
   "source": [
    "df.sex.apply(lambda x: 0 if x == \"Male\" else 1)"
   ]
  },
  {
   "cell_type": "markdown",
   "metadata": {},
   "source": [
    "map ve modül konusunu işleyeceğiz."
   ]
  },
  {
   "cell_type": "markdown",
   "metadata": {},
   "source": [
    "Ödev2:\n",
    "Perfect number tespit eden fonksiyonu yazın. Fonksiyonu yazarken lambda kullanmaya çalışın.\n",
    "daha sonra bu fonksiyonu kullanarak 1 ile 100 arasındaki perfect numberları bulun.\n",
    "(Mükemmel sayı (perfect number), pozitif tam sayıların bir türüdür. Bir sayının, kendisi hariç pozitif bölenlerinin toplamı, sayının kendisine eşitse, o sayı mükemmel sayı olarak adlandırılır.\n",
    "6 sayısının pozitif bölenleri: 1, 2, 3\n",
    "Bu bölenlerin toplamı: 1 + 2 + 3 = 6  ) "
   ]
  },
  {
   "cell_type": "code",
   "execution_count": 1,
   "metadata": {},
   "outputs": [
    {
     "data": {
      "text/plain": [
       "8"
      ]
     },
     "execution_count": 1,
     "metadata": {},
     "output_type": "execute_result"
    }
   ],
   "source": [
    "(lambda x, y : x + y )(3,5)"
   ]
  },
  {
   "cell_type": "code",
   "execution_count": 47,
   "metadata": {},
   "outputs": [],
   "source": [
    "def perfect_number(x):\n",
    "    sayilar = []\n",
    "    for i in range(1, x):\n",
    "        if x % i == 0:\n",
    "            sayilar.append(i)\n",
    "    if x == sum(sayilar) :\n",
    "        return True\n",
    "    else : \n",
    "        return False\n",
    "\n",
    "    "
   ]
  },
  {
   "cell_type": "code",
   "execution_count": 48,
   "metadata": {},
   "outputs": [
    {
     "data": {
      "text/plain": [
       "False"
      ]
     },
     "execution_count": 48,
     "metadata": {},
     "output_type": "execute_result"
    }
   ],
   "source": [
    "perfect_number(30)"
   ]
  },
  {
   "cell_type": "code",
   "execution_count": 44,
   "metadata": {},
   "outputs": [
    {
     "data": {
      "text/plain": [
       "[6, 28]"
      ]
     },
     "execution_count": 44,
     "metadata": {},
     "output_type": "execute_result"
    }
   ],
   "source": [
    "list(filter(perfect_number, range(1,101)))"
   ]
  },
  {
   "cell_type": "code",
   "execution_count": 56,
   "metadata": {},
   "outputs": [],
   "source": [
    "def perfect_number_2(x):\n",
    "    return  sum([ i for i in range(1, x) if x % i == 0 ]) == x\n",
    "        \n",
    "   "
   ]
  },
  {
   "cell_type": "code",
   "execution_count": 68,
   "metadata": {},
   "outputs": [
    {
     "data": {
      "text/plain": [
       "[6, 28]"
      ]
     },
     "execution_count": 68,
     "metadata": {},
     "output_type": "execute_result"
    }
   ],
   "source": [
    "list(filter(perfect_number_2, range(1,101) ))"
   ]
  },
  {
   "cell_type": "code",
   "execution_count": 67,
   "metadata": {},
   "outputs": [
    {
     "data": {
      "text/plain": [
       "[6, 28]"
      ]
     },
     "execution_count": 67,
     "metadata": {},
     "output_type": "execute_result"
    }
   ],
   "source": [
    "list(filter((lambda x : sum([ i for i in range(1, x) if x % i == 0 ]) == x ), range(1,101)))"
   ]
  },
  {
   "cell_type": "markdown",
   "metadata": {},
   "source": [
    "Rastgele sayılardan oluşan bir listenin içinden 15 ve 30 arasında olan(iki sayıda dahil. ) sayıları ayıklayan kodu yazın. (filter ve lambda fonksiyonları kullanın)"
   ]
  },
  {
   "cell_type": "code",
   "execution_count": 1,
   "metadata": {},
   "outputs": [],
   "source": [
    "import random"
   ]
  },
  {
   "cell_type": "code",
   "execution_count": 4,
   "metadata": {},
   "outputs": [
    {
     "data": {
      "text/plain": [
       "[92, 39, 88, 82, 26, 42, 25, 77, 57, 36, 75, 13, 73, 91, 14]"
      ]
     },
     "execution_count": 4,
     "metadata": {},
     "output_type": "execute_result"
    }
   ],
   "source": [
    "random.sample(range(1,101),15)"
   ]
  },
  {
   "cell_type": "code",
   "execution_count": 28,
   "metadata": {},
   "outputs": [
    {
     "data": {
      "text/plain": [
       "False"
      ]
     },
     "execution_count": 28,
     "metadata": {},
     "output_type": "execute_result"
    }
   ],
   "source": [
    "(lambda x :  15 <= x <= 30 )(14)"
   ]
  },
  {
   "cell_type": "code",
   "execution_count": 10,
   "metadata": {},
   "outputs": [
    {
     "data": {
      "text/plain": [
       "[27, 16, 21]"
      ]
     },
     "execution_count": 10,
     "metadata": {},
     "output_type": "execute_result"
    }
   ],
   "source": [
    "list(filter(lambda x :  15 <= x <= 30 , random.sample(range(100),20)))"
   ]
  },
  {
   "cell_type": "code",
   "execution_count": 12,
   "metadata": {},
   "outputs": [],
   "source": [
    "def x(sayi):\n",
    "    if sayi < 10:\n",
    "         return True\n",
    "    else :\n",
    "        return False\n",
    "                \n"
   ]
  },
  {
   "cell_type": "code",
   "execution_count": 13,
   "metadata": {},
   "outputs": [
    {
     "data": {
      "text/plain": [
       "[1, 2, 3, 4, 5, 6]"
      ]
     },
     "execution_count": 13,
     "metadata": {},
     "output_type": "execute_result"
    }
   ],
   "source": [
    "list(filter(x, [1,2,3,4,5,6,12,23]))"
   ]
  },
  {
   "cell_type": "code",
   "execution_count": 15,
   "metadata": {},
   "outputs": [
    {
     "data": {
      "text/plain": [
       "True"
      ]
     },
     "execution_count": 15,
     "metadata": {},
     "output_type": "execute_result"
    }
   ],
   "source": [
    "x()"
   ]
  },
  {
   "cell_type": "code",
   "execution_count": null,
   "metadata": {},
   "outputs": [],
   "source": []
  }
 ],
 "metadata": {
  "kernelspec": {
   "display_name": "Python 3",
   "language": "python",
   "name": "python3"
  },
  "language_info": {
   "codemirror_mode": {
    "name": "ipython",
    "version": 3
   },
   "file_extension": ".py",
   "mimetype": "text/x-python",
   "name": "python",
   "nbconvert_exporter": "python",
   "pygments_lexer": "ipython3",
   "version": "3.12.3"
  }
 },
 "nbformat": 4,
 "nbformat_minor": 2
}
