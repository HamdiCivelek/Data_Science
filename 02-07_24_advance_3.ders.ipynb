{
 "cells": [
  {
   "cell_type": "code",
   "execution_count": 1,
   "metadata": {},
   "outputs": [
    {
     "data": {
      "text/plain": [
       "8"
      ]
     },
     "execution_count": 1,
     "metadata": {},
     "output_type": "execute_result"
    }
   ],
   "source": [
    "3 + 5 \n"
   ]
  },
  {
   "cell_type": "markdown",
   "metadata": {},
   "source": [
    "liste_1 = [4,5,6,9,85,23,65,47,32,91] listenin en küçük ve en büyük elemanını min ve max fpnksiyonu kullanmadan bulun. sort fonk da kullanmayın. while ile min değeri for ile max değeri bulun."
   ]
  },
  {
   "cell_type": "code",
   "execution_count": 18,
   "metadata": {},
   "outputs": [
    {
     "name": "stdout",
     "output_type": "stream",
     "text": [
      "4\n"
     ]
    }
   ],
   "source": [
    "liste_1 = [4,5,6,9,85,23,65,47,32,91]\n",
    "min_sayı = liste_1[0]\n",
    "x = 0\n",
    "\n",
    "while x < len(liste_1) :\n",
    "    if liste_1[x] < min_sayı :\n",
    "        min_sayı = liste_1[x]\n",
    "    x += 1\n",
    "print(min_sayı)\n"
   ]
  },
  {
   "cell_type": "code",
   "execution_count": 20,
   "metadata": {},
   "outputs": [
    {
     "name": "stdout",
     "output_type": "stream",
     "text": [
      "91\n"
     ]
    }
   ],
   "source": [
    "iste_1 = [4,5,6,9,85,23,65,47,32,91]\n",
    "max_sayı = liste_1[0]\n",
    "\n",
    "\n",
    "for i in liste_1 :\n",
    "    if i > max_sayı :\n",
    "        max_sayı = i\n",
    "print(max_sayı)\n"
   ]
  },
  {
   "cell_type": "code",
   "execution_count": 25,
   "metadata": {},
   "outputs": [
    {
     "data": {
      "text/plain": [
       "{'name': 'Hakan', 'age': 32, 'jop': 'datasientist'}"
      ]
     },
     "execution_count": 25,
     "metadata": {},
     "output_type": "execute_result"
    }
   ],
   "source": [
    "dict_1 = {\"name\": \"Hakan\", \"age\": 32, \"jop\": \"datasientist\"}\n",
    "dict_1"
   ]
  },
  {
   "cell_type": "code",
   "execution_count": 26,
   "metadata": {},
   "outputs": [
    {
     "name": "stdout",
     "output_type": "stream",
     "text": [
      "name\n",
      "age\n",
      "jop\n"
     ]
    }
   ],
   "source": [
    "for i in dict_1:\n",
    "    print(i)"
   ]
  },
  {
   "cell_type": "code",
   "execution_count": 27,
   "metadata": {},
   "outputs": [
    {
     "data": {
      "text/plain": [
       "dict_items([('name', 'Hakan'), ('age', 32), ('jop', 'datasientist')])"
      ]
     },
     "execution_count": 27,
     "metadata": {},
     "output_type": "execute_result"
    }
   ],
   "source": [
    "dict_1.items() # Burada sadece key leri çağırdı."
   ]
  },
  {
   "cell_type": "code",
   "execution_count": 28,
   "metadata": {},
   "outputs": [
    {
     "name": "stdout",
     "output_type": "stream",
     "text": [
      "('name', 'Hakan')\n",
      "('age', 32)\n",
      "('jop', 'datasientist')\n"
     ]
    }
   ],
   "source": [
    "for i in dict_1.items() : # Burada key ve value lerini getirdi.\n",
    "    print(i)"
   ]
  },
  {
   "cell_type": "code",
   "execution_count": 29,
   "metadata": {},
   "outputs": [
    {
     "name": "stdout",
     "output_type": "stream",
     "text": [
      "key: name, values: Hakan\n",
      "key: age, values: 32\n",
      "key: jop, values: datasientist\n"
     ]
    }
   ],
   "source": [
    "for i,j in dict_1.items() : # ikili aratma yaptık. dict te çift değer olduğu için burda kullandık.\n",
    "    print(f\"key: {i}, values: {j}\")"
   ]
  },
  {
   "cell_type": "code",
   "execution_count": 34,
   "metadata": {},
   "outputs": [
    {
     "name": "stdout",
     "output_type": "stream",
     "text": [
      "keys: name    , values: Hakan\n",
      "keys: age     , values: 32\n",
      "keys: jop     , values: datasientist\n"
     ]
    }
   ],
   "source": [
    "for i,j in dict_1.items() : \n",
    "    print(f\"keys: {i:<8}, values: {j}\") # Burada 8 kareketerlik alan açtı sola yasladı."
   ]
  },
  {
   "cell_type": "code",
   "execution_count": 35,
   "metadata": {},
   "outputs": [
    {
     "name": "stdout",
     "output_type": "stream",
     "text": [
      "keys:     name, values: Hakan\n",
      "keys:      age, values: 32\n",
      "keys:      jop, values: datasientist\n"
     ]
    }
   ],
   "source": [
    "for i,j in dict_1.items() : \n",
    "    print(f\"keys: {i:>8}, values: {j}\") #Burada 8 kareketerlik alan açtı sağa yasladı."
   ]
  },
  {
   "cell_type": "code",
   "execution_count": 36,
   "metadata": {},
   "outputs": [
    {
     "name": "stdout",
     "output_type": "stream",
     "text": [
      "keys:     name, values:      Hakan     \n",
      "keys:      age, values:       32       \n",
      "keys:      jop, values:  datasientist  \n"
     ]
    }
   ],
   "source": [
    "for i,j in dict_1.items() : \n",
    "    print(f\"keys: {i:>8}, values: {j:^15}\") # Burada keys te 8 kareketerlik alan açtı sağa yasladı. \n",
    "                                            # ve values te 15 karakterlik alan açtı ve ortaladı."
   ]
  },
  {
   "cell_type": "code",
   "execution_count": 37,
   "metadata": {},
   "outputs": [
    {
     "data": {
      "text/plain": [
       "'      techPro       '"
      ]
     },
     "execution_count": 37,
     "metadata": {},
     "output_type": "execute_result"
    }
   ],
   "source": [
    "\"techPro\".center(20)"
   ]
  },
  {
   "cell_type": "code",
   "execution_count": null,
   "metadata": {},
   "outputs": [],
   "source": [
    "# çalıştırma sonsuz döngü\n",
    "#liste_2 = [\"sonsuza gider mi deneyelim\"]\n",
    "#for i in liste_2:\n",
    "    #print(i)\n",
    "    #liste_2.append(\"sonsuza gider mi deneyelim\")"
   ]
  },
  {
   "cell_type": "markdown",
   "metadata": {},
   "source": [
    "1 den 50 ye kadar 50 dahil sayıların toplamını bulan kodu yazın.\n"
   ]
  },
  {
   "cell_type": "code",
   "execution_count": 42,
   "metadata": {},
   "outputs": [
    {
     "name": "stdout",
     "output_type": "stream",
     "text": [
      "1275\n"
     ]
    }
   ],
   "source": [
    "toplam = 0\n",
    "\n",
    "for i in range(51) : # \n",
    "    toplam += i\n",
    "print(toplam)"
   ]
  },
  {
   "cell_type": "code",
   "execution_count": 50,
   "metadata": {},
   "outputs": [
    {
     "name": "stdout",
     "output_type": "stream",
     "text": [
      "1225\n",
      "15\n"
     ]
    }
   ],
   "source": [
    "print(sum(range(50),))   # Burada sum fonksiyonu içerisindeki değerleri topluyor. Sadece Numeric değerler ile çalışır.\n",
    "print(sum([1,2,3,4,5])) # Burada default değeri 0 dır. 0 ın üstüne toplar. Default değeri değişebilir."
   ]
  },
  {
   "cell_type": "code",
   "execution_count": 52,
   "metadata": {},
   "outputs": [
    {
     "name": "stdout",
     "output_type": "stream",
     "text": [
      "650\n"
     ]
    }
   ],
   "source": [
    "toplam = 0\n",
    "for i in range(51) :\n",
    "    if i % 2 == 0 : \n",
    "        toplam += i\n",
    "print(toplam)"
   ]
  },
  {
   "cell_type": "code",
   "execution_count": 2,
   "metadata": {},
   "outputs": [
    {
     "data": {
      "text/plain": [
       "650"
      ]
     },
     "execution_count": 2,
     "metadata": {},
     "output_type": "execute_result"
    }
   ],
   "source": [
    "sum(range(0, 51,2))"
   ]
  },
  {
   "cell_type": "markdown",
   "metadata": {},
   "source": [
    "# break, continue"
   ]
  },
  {
   "cell_type": "code",
   "execution_count": 4,
   "metadata": {},
   "outputs": [
    {
     "data": {
      "text/plain": [
       "[1, 2, 3, 4, 5]"
      ]
     },
     "execution_count": 4,
     "metadata": {},
     "output_type": "execute_result"
    }
   ],
   "source": [
    "liste_3 = [1, 2, 3, 4, 5]\n",
    "liste_3"
   ]
  },
  {
   "cell_type": "code",
   "execution_count": 5,
   "metadata": {},
   "outputs": [
    {
     "name": "stdout",
     "output_type": "stream",
     "text": [
      "1\n",
      "4\n"
     ]
    }
   ],
   "source": [
    "# 3 ve  ün katı olan sayıya denk gelindiğinde döngü bitsin. Diğer durumlarda sayıların karesini gösterin.\n",
    "\n",
    "for i in liste_3 :\n",
    "\n",
    "    if i % 3 == 0 :\n",
    "        break\n",
    "    print(i **2)"
   ]
  },
  {
   "cell_type": "code",
   "execution_count": 9,
   "metadata": {},
   "outputs": [
    {
     "name": "stdout",
     "output_type": "stream",
     "text": [
      "1\n",
      "9\n",
      "25\n"
     ]
    }
   ],
   "source": [
    "# 3 ve  ün katı olan sayıya denk gelindiğinde döngü işlem yapmadan  devam etsin. Diğer durumlarda sayıların karesini gösterin.\n",
    "\n",
    "for i in liste_3 :\n",
    "\n",
    "    if i % 2 == 0 : # Burada şart sağlanırsa o şartı görmeden devam eder.\n",
    "        continue\n",
    "        \n",
    "    print(i ** 2)"
   ]
  },
  {
   "cell_type": "code",
   "execution_count": 62,
   "metadata": {},
   "outputs": [
    {
     "name": "stdout",
     "output_type": "stream",
     "text": [
      "650\n"
     ]
    }
   ],
   "source": [
    "toplam = 0\n",
    "for i in range(51) :\n",
    "    if i % 2  : \n",
    "        continue\n",
    "    toplam += i\n",
    "print(toplam) \n",
    "       \n",
    "        "
   ]
  },
  {
   "cell_type": "markdown",
   "metadata": {},
   "source": [
    "# zip()"
   ]
  },
  {
   "cell_type": "code",
   "execution_count": 11,
   "metadata": {},
   "outputs": [],
   "source": [
    "a = [\"apple\", \"orange\", \"lemon\"]\n",
    "b = [1,2,3]\n"
   ]
  },
  {
   "cell_type": "code",
   "execution_count": 65,
   "metadata": {},
   "outputs": [
    {
     "data": {
      "text/plain": [
       "<zip at 0x180de6250c0>"
      ]
     },
     "execution_count": 65,
     "metadata": {},
     "output_type": "execute_result"
    }
   ],
   "source": [
    "zip(a,b) # iki lsiteyi mach yaptı. eşleştirdi."
   ]
  },
  {
   "cell_type": "code",
   "execution_count": 67,
   "metadata": {},
   "outputs": [
    {
     "data": {
      "text/plain": [
       "{'apple': 1, 'orange': 2, 'lemon': 3}"
      ]
     },
     "execution_count": 67,
     "metadata": {},
     "output_type": "execute_result"
    }
   ],
   "source": [
    "dict(zip(a,b))  # Yazdırma için list fonksiyonu kullandı."
   ]
  },
  {
   "cell_type": "code",
   "execution_count": 68,
   "metadata": {},
   "outputs": [
    {
     "data": {
      "text/plain": [
       "[('apple', 1), ('orange', 2), ('lemon', 3)]"
      ]
     },
     "execution_count": 68,
     "metadata": {},
     "output_type": "execute_result"
    }
   ],
   "source": [
    "list(zip(a,b))"
   ]
  },
  {
   "cell_type": "code",
   "execution_count": 12,
   "metadata": {},
   "outputs": [
    {
     "data": {
      "text/plain": [
       "(('apple', 1), ('orange', 2), ('lemon', 3))"
      ]
     },
     "execution_count": 12,
     "metadata": {},
     "output_type": "execute_result"
    }
   ],
   "source": [
    "tuple(zip(a,b))"
   ]
  },
  {
   "cell_type": "code",
   "execution_count": 70,
   "metadata": {},
   "outputs": [
    {
     "data": {
      "text/plain": [
       "{('apple', 1), ('lemon', 3), ('orange', 2)}"
      ]
     },
     "execution_count": 70,
     "metadata": {},
     "output_type": "execute_result"
    }
   ],
   "source": [
    "set(zip(a,b))"
   ]
  },
  {
   "cell_type": "code",
   "execution_count": 71,
   "metadata": {},
   "outputs": [
    {
     "data": {
      "text/plain": [
       "[('t', 'Y', 'A'), ('e', 'a', 'r'), ('c', 's', 'z'), ('h', 'i', 'u')]"
      ]
     },
     "execution_count": 71,
     "metadata": {},
     "output_type": "execute_result"
    }
   ],
   "source": [
    "x = \"techpro\"    # Burada en az karakterli listeye göre işlem yaptı.\n",
    "y = \"Yasin\"\n",
    "z = \"Arzu\"\n",
    "\n",
    "list(zip(x, y, z,))"
   ]
  },
  {
   "cell_type": "code",
   "execution_count": 2,
   "metadata": {},
   "outputs": [
    {
     "name": "stdout",
     "output_type": "stream",
     "text": [
      "[('Ferdi', 33, 'datascientist'), ('Ali', 25, 'dataanalyst'), ('Dilay', 26, 'pythondeveloper')]\n"
     ]
    }
   ],
   "source": [
    "name = [\"Ferdi\", \"Ali\", \"Dilay\"] # burada farklı verilerden birleştirme yaptık. tuple olarak çıktı verdi.\n",
    "age  = [33, 25, 26]              # Burada indexler ile eşleşme yapıyoruz.\n",
    "job = (\"datascientist\", \"dataanalyst\", \"pythondeveloper\")\n",
    "print(list(zip(name, age,job)))"
   ]
  },
  {
   "cell_type": "code",
   "execution_count": 75,
   "metadata": {},
   "outputs": [
    {
     "data": {
      "text/plain": [
       "{'apple': 3, 'orange': 2}"
      ]
     },
     "execution_count": 75,
     "metadata": {},
     "output_type": "execute_result"
    }
   ],
   "source": [
    "meyveler = [\"apple\", \"orange\", \"apple\"] \n",
    "adet = [1, 2, 3]\n",
    "dict(zip(meyveler, adet)) # Burada keyler aynı olamayacağı için 2 elemanlı dict oluştu."
   ]
  },
  {
   "cell_type": "code",
   "execution_count": 76,
   "metadata": {},
   "outputs": [],
   "source": [
    "name = [\"Ferdi\", \"Ali\", \"Dilay\"]\n",
    "age  = [33, 25, 26]\n",
    "job = (\"datascientist\", \"dataanalyst\", \"pythondeveloper\")"
   ]
  },
  {
   "cell_type": "code",
   "execution_count": 77,
   "metadata": {},
   "outputs": [
    {
     "name": "stdout",
     "output_type": "stream",
     "text": [
      "name: Ferdi , age: 33 , job:datascientist  \n",
      "name: Ali   , age: 25 , job:dataanalyst    \n",
      "name: Dilay , age: 26 , job:pythondeveloper\n"
     ]
    }
   ],
   "source": [
    "for i,j,k in zip(name, age, job):\n",
    "    print(f\"name: {i:<6}, age: {j:<3}, job:{k:<15}\") "
   ]
  },
  {
   "cell_type": "markdown",
   "metadata": {},
   "source": [
    "Kullanıcıdan 1 ile 10 arasında bir sayı isteyin ve sayının çarpım tablosunu oluşturun.\n",
    "Girilen sayı 4 olsun.\n",
    "4 x 0 = 0\n",
    "4 x 1 = 4\n",
    "4 x 2 = 8\n",
    ".\n",
    ".\n",
    ".\n",
    "4 x 10 = 40\n",
    "Şeklinde çıktı almak istiyoruz."
   ]
  },
  {
   "cell_type": "code",
   "execution_count": 13,
   "metadata": {},
   "outputs": [
    {
     "name": "stdout",
     "output_type": "stream",
     "text": [
      "5 x 0  = 0\n",
      "5 x 1  = 5\n",
      "5 x 2  = 10\n",
      "5 x 3  = 15\n",
      "5 x 4  = 20\n",
      "5 x 5  = 25\n",
      "5 x 6  = 30\n",
      "5 x 7  = 35\n",
      "5 x 8  = 40\n",
      "5 x 9  = 45\n",
      "5 x 10 = 50\n"
     ]
    }
   ],
   "source": [
    "sayi = (input(\"Lütfen 1 ile 10 arası bir sayı giriniz.\"))\n",
    "if sayi.lstrip(\"-\").isnumeric() :\n",
    "    if int(sayi) > 10 or int(sayi) <= 0  :\n",
    "        print(f\"Girmiş olduğunuz {int(sayi)}, 1 ile 10 arasında değil. Lütfen 10 Lütfen 1 ile 10 arası bir sayı giriniz. \")\n",
    "    else :\n",
    "        for i in range(11) :\n",
    "            print(f\"{int(sayi):} x {i:<2} = {int(sayi) * i}\")\n",
    "else :\n",
    "    print(f\"Girmiş olduğunuz ({sayi}) değer, numeric değil.  Lütfen 1 ile 10 arası bir sayı giriniz. \")\n"
   ]
  },
  {
   "cell_type": "code",
   "execution_count": 6,
   "metadata": {},
   "outputs": [
    {
     "name": "stdout",
     "output_type": "stream",
     "text": [
      "Girmiş olduğunuz 56, 1 ile 10 arasında değil. Lütfen 10 Lütfen 1 ile 10 arası bir sayı giriniz. \n",
      "Girmiş olduğunuz (kh) değer, numeric değil.  Lütfen 1 ile 10 arası bir sayı giriniz. \n",
      "Girmiş olduğunuz -5, 1 ile 10 arasında değil. Lütfen 10 Lütfen 1 ile 10 arası bir sayı giriniz. \n",
      "Girmiş olduğunuz -5, 1 ile 10 arasında değil. Lütfen 10 Lütfen 1 ile 10 arası bir sayı giriniz. \n",
      "10 x 0  = 0\n",
      "10 x 1  = 10\n",
      "10 x 2  = 20\n",
      "10 x 3  = 30\n",
      "10 x 4  = 40\n",
      "10 x 5  = 50\n",
      "10 x 6  = 60\n",
      "10 x 7  = 70\n",
      "10 x 8  = 80\n",
      "10 x 9  = 90\n",
      "10 x 10 = 100\n"
     ]
    }
   ],
   "source": [
    "# Burada döngü devam etsin diye while kullnadık.\n",
    "while True :\n",
    "    sayi = (input(\"Lütfen 1 ile 10 arası bir sayı giriniz.\"))\n",
    "    if sayi.lstrip(\"-\").isnumeric() :\n",
    "        if int(sayi) > 10 or int(sayi) <= 0  :\n",
    "            print(f\"Girmiş olduğunuz {int(sayi)}, 1 ile 10 arasında değil. Lütfen 10 Lütfen 1 ile 10 arası bir sayı giriniz. \")\n",
    "        else :\n",
    "            for i in range(11) :\n",
    "                print(f\"{int(sayi):} x {i:<2} = {int(sayi) * i}\")\n",
    "            break\n",
    "    else :\n",
    "        print(f\"Girmiş olduğunuz ({sayi}) değer, numeric değil.  Lütfen 1 ile 10 arası bir sayı giriniz. \")"
   ]
  }
 ],
 "metadata": {
  "kernelspec": {
   "display_name": "Python 3",
   "language": "python",
   "name": "python3"
  },
  "language_info": {
   "codemirror_mode": {
    "name": "ipython",
    "version": 3
   },
   "file_extension": ".py",
   "mimetype": "text/x-python",
   "name": "python",
   "nbconvert_exporter": "python",
   "pygments_lexer": "ipython3",
   "version": "3.12.3"
  }
 },
 "nbformat": 4,
 "nbformat_minor": 2
}
