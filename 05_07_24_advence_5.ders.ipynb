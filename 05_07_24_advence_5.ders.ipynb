{
 "cells": [
  {
   "cell_type": "code",
   "execution_count": 1,
   "metadata": {},
   "outputs": [
    {
     "data": {
      "text/plain": [
       "12"
      ]
     },
     "execution_count": 1,
     "metadata": {},
     "output_type": "execute_result"
    }
   ],
   "source": [
    "5 + 7"
   ]
  },
  {
   "cell_type": "markdown",
   "metadata": {},
   "source": [
    "# FUNNCTIONS"
   ]
  },
  {
   "cell_type": "markdown",
   "metadata": {},
   "source": [
    "def fonk_ismi(parametre/parametreler) :\n",
    "    işlem satırı   # ram belleğe kayıt olur. reset atıldığında yada dosaya kapandığında tekrar çalıştırmamız gerekir.\n"
   ]
  },
  {
   "cell_type": "code",
   "execution_count": 55,
   "metadata": {},
   "outputs": [
    {
     "data": {
      "text/plain": [
       "32"
      ]
     },
     "execution_count": 55,
     "metadata": {},
     "output_type": "execute_result"
    }
   ],
   "source": [
    "x = 4\n",
    "y = 4\n",
    "karelerin_toplamı = (x ** 2) + (y ** 2) \n",
    "karelerin_toplamı"
   ]
  },
  {
   "cell_type": "code",
   "execution_count": 52,
   "metadata": {},
   "outputs": [],
   "source": [
    "def kareler_toplamı(x, y) :\n",
    "    print(x **2 + y ** 2)"
   ]
  },
  {
   "cell_type": "code",
   "execution_count": 57,
   "metadata": {},
   "outputs": [],
   "source": [
    "def hamdi() :\n",
    "    print(\"Adamın dibi\")\n",
    "    \n",
    "\n",
    "  "
   ]
  },
  {
   "cell_type": "code",
   "execution_count": 58,
   "metadata": {},
   "outputs": [
    {
     "name": "stdout",
     "output_type": "stream",
     "text": [
      "Adamın dibi\n"
     ]
    }
   ],
   "source": [
    "hamdi()"
   ]
  },
  {
   "cell_type": "code",
   "execution_count": 54,
   "metadata": {},
   "outputs": [
    {
     "name": "stdout",
     "output_type": "stream",
     "text": [
      "32\n"
     ]
    }
   ],
   "source": [
    "kareler_toplamı(4,4) # 4 ve 3 arguman. tanımladığımız x ve y parametre.\n"
   ]
  },
  {
   "cell_type": "code",
   "execution_count": 17,
   "metadata": {},
   "outputs": [],
   "source": [
    "def kareler_toplamı_2(x, y): # Kaç argüman var ise  kadar argüman ile çağırmamız lazım fonksiyonu.\n",
    "\n",
    "    \"\"\"Bu fonksiyon iki tane tam sayının karesinin toplamını verir.\"\"\" # Burada fonksiyona bir açıklama yazdık.\n",
    "\n",
    "    print(x** 2 + y ** 2)"
   ]
  },
  {
   "cell_type": "code",
   "execution_count": 9,
   "metadata": {},
   "outputs": [
    {
     "name": "stdout",
     "output_type": "stream",
     "text": [
      "34\n"
     ]
    }
   ],
   "source": [
    "kareler_toplamı_2(3,5)"
   ]
  },
  {
   "cell_type": "code",
   "execution_count": 15,
   "metadata": {},
   "outputs": [],
   "source": [
    "def kareler_toplamı_3(x, y):\n",
    "    \n",
    "    print(x** 2 + y ** 2)\n",
    "\n",
    "    \"\"\"Bu fonksiyon iki tane tam sayının karesinin toplamını verir.\"\"\" # Açıklamayı bu kısıma yazdığımız zaman fonksiyon açıklamada çıkmaz."
   ]
  },
  {
   "cell_type": "code",
   "execution_count": 18,
   "metadata": {},
   "outputs": [
    {
     "data": {
      "text/plain": [
       "'Bu fonksiyon iki tane tam sayının karesinin toplamını verir.'"
      ]
     },
     "execution_count": 18,
     "metadata": {},
     "output_type": "execute_result"
    }
   ],
   "source": [
    "kareler_toplamı_2.__doc__"
   ]
  },
  {
   "cell_type": "code",
   "execution_count": 20,
   "metadata": {},
   "outputs": [],
   "source": [
    "def neşet_baba() :\n",
    "    print(\"Kadınlar insandır biz insanoğlu\") # Burada bir argüman vermedik. Sadece parantez aç kapa ile çalışır."
   ]
  },
  {
   "cell_type": "code",
   "execution_count": 21,
   "metadata": {},
   "outputs": [
    {
     "name": "stdout",
     "output_type": "stream",
     "text": [
      "Kadınlar insandır biz insanoğlu\n"
     ]
    }
   ],
   "source": [
    "neşet_baba()"
   ]
  },
  {
   "cell_type": "code",
   "execution_count": 61,
   "metadata": {},
   "outputs": [],
   "source": [
    "def calculator(num1, opr, num2):\n",
    "\n",
    "    if opr == \"+\":\n",
    "        print(num1 + num2)\n",
    "    \n",
    "    elif opr == \"-\":\n",
    "        print(num1 - num2)\n",
    "\n",
    "    elif opr == \"/\":\n",
    "        print(num1 / num2)\n",
    "    \n",
    "    elif opr == \"x\":\n",
    "        print(num1 * num2)\n",
    "    \n",
    "    else:\n",
    "        print(\"opr hatalı girildi.\")"
   ]
  },
  {
   "cell_type": "code",
   "execution_count": 63,
   "metadata": {},
   "outputs": [
    {
     "name": "stdout",
     "output_type": "stream",
     "text": [
      "opr hatalı girildi.\n"
     ]
    }
   ],
   "source": [
    "calculator(5, \"y\", 2)"
   ]
  },
  {
   "cell_type": "code",
   "execution_count": 24,
   "metadata": {},
   "outputs": [
    {
     "name": "stdout",
     "output_type": "stream",
     "text": [
      "58\n"
     ]
    }
   ],
   "source": [
    "calculator(\"5\", \"+\", \"8\") # Burada yan yana yazdı o yüzden hata vermedi. Hata kodu  yazmmamız gerekir."
   ]
  },
  {
   "cell_type": "code",
   "execution_count": 22,
   "metadata": {},
   "outputs": [],
   "source": [
    "def my_len(x):\n",
    "\n",
    "    \"\"\"len fonksiyonunu beğenmedim: Kendi fonksiyonumu yazıcam.\"\"\"\n",
    "\n",
    "    count = 0\n",
    "\n",
    "    for i in str(x):\n",
    "        \n",
    "        count += 1\n",
    "\n",
    "\n",
    "    print(count)\n",
    "\n"
   ]
  },
  {
   "cell_type": "code",
   "execution_count": 23,
   "metadata": {},
   "outputs": [
    {
     "name": "stdout",
     "output_type": "stream",
     "text": [
      "5\n"
     ]
    }
   ],
   "source": [
    "my_len(\"Hamdi\")"
   ]
  },
  {
   "cell_type": "code",
   "execution_count": 6,
   "metadata": {},
   "outputs": [],
   "source": [
    "def my_len_2(x):\n",
    "\n",
    "    \"\"\"len fonksiyonunu beğenmedim: Kendi fonksiyonumu yazıcam.\"\"\"\n",
    "\n",
    "    print(sum([1 for i in x]))\n",
    "\n",
    "    \n",
    "\n"
   ]
  },
  {
   "cell_type": "code",
   "execution_count": null,
   "metadata": {},
   "outputs": [],
   "source": []
  },
  {
   "cell_type": "code",
   "execution_count": 7,
   "metadata": {},
   "outputs": [
    {
     "data": {
      "text/plain": [
       "45"
      ]
     },
     "execution_count": 7,
     "metadata": {},
     "output_type": "execute_result"
    }
   ],
   "source": [
    "sum(range(10))"
   ]
  },
  {
   "cell_type": "code",
   "execution_count": 32,
   "metadata": {},
   "outputs": [
    {
     "name": "stdout",
     "output_type": "stream",
     "text": [
      "5\n"
     ]
    }
   ],
   "source": [
    "my_len_2(\"Hamdi\")"
   ]
  },
  {
   "cell_type": "code",
   "execution_count": 16,
   "metadata": {},
   "outputs": [],
   "source": [
    "def my_len_3(x):\n",
    "\n",
    "    \"\"\"len fonksiyonunu beğenmedim: Kendi fonksiyonumu yazıcam.\"\"\"\n",
    "\n",
    "    count = 0\n",
    "\n",
    "    for i in str(x):\n",
    "        count += 1\n",
    "\n",
    "    print(count)\n"
   ]
  },
  {
   "cell_type": "code",
   "execution_count": 17,
   "metadata": {},
   "outputs": [
    {
     "ename": "NameError",
     "evalue": "name 'Hamdi' is not defined",
     "output_type": "error",
     "traceback": [
      "\u001b[1;31m---------------------------------------------------------------------------\u001b[0m",
      "\u001b[1;31mNameError\u001b[0m                                 Traceback (most recent call last)",
      "Cell \u001b[1;32mIn[17], line 1\u001b[0m\n\u001b[1;32m----> 1\u001b[0m my_len_3(\u001b[43mHamdi\u001b[49m)\n",
      "\u001b[1;31mNameError\u001b[0m: name 'Hamdi' is not defined"
     ]
    }
   ],
   "source": [
    "my_len_3(Hamdi)"
   ]
  },
  {
   "cell_type": "markdown",
   "metadata": {},
   "source": [
    "# iki kenar bilgisi bilinen dik üçgenin hipotenüsünü bulan fonk yazın. Daha sonra üçgenin çevresini hesaplayın\n",
    "h2 = b2 + c2"
   ]
  },
  {
   "cell_type": "code",
   "execution_count": 54,
   "metadata": {},
   "outputs": [],
   "source": [
    "def dik_üçgen_hipotenüs(a, b) :\n",
    "    \n",
    "    return ((a ** 2 + b ** 2) ** 0.5) # burada return burdan gelen sonucu başka bir yerde de kendi tipi ile kullanılır.\n",
    "                                      # Başka bir yerde kullanmak istiyorsak return ile kullanmamız gerekir.\n",
    "                                      # Büyük olasılıkla return kullanılır.\n",
    "\n",
    "\n"
   ]
  },
  {
   "cell_type": "code",
   "execution_count": 55,
   "metadata": {},
   "outputs": [
    {
     "data": {
      "text/plain": [
       "5.0"
      ]
     },
     "execution_count": 55,
     "metadata": {},
     "output_type": "execute_result"
    }
   ],
   "source": [
    "dik_üçgen_hipotenüs(3, 4)"
   ]
  },
  {
   "cell_type": "code",
   "execution_count": 56,
   "metadata": {},
   "outputs": [
    {
     "data": {
      "text/plain": [
       "12.0"
      ]
     },
     "execution_count": 56,
     "metadata": {},
     "output_type": "execute_result"
    }
   ],
   "source": [
    "çevre = 3 + 4 + dik_üçgen_hipotenüs(3, 4)\n",
    "çevre"
   ]
  },
  {
   "cell_type": "code",
   "execution_count": 78,
   "metadata": {},
   "outputs": [],
   "source": [
    "def adın_kadar_kazan(name) :\n",
    "    \n",
    "    \"\"\" Bu fonksiyon ismin içerisinde geçen sesli harf sayısını bulur.\"\"\"\n",
    "    toplam = 0\n",
    "    for i in name.lower() :\n",
    "        if i in \"aeıioöuü\" :\n",
    "            toplam += 1\n",
    "    return toplam * 1000\n",
    "\n",
    "\n",
    "\n",
    "    "
   ]
  },
  {
   "cell_type": "code",
   "execution_count": 79,
   "metadata": {},
   "outputs": [
    {
     "data": {
      "text/plain": [
       "2000"
      ]
     },
     "execution_count": 79,
     "metadata": {},
     "output_type": "execute_result"
    }
   ],
   "source": [
    "adın_kadar_kazan(\"HAMDİ\")"
   ]
  },
  {
   "cell_type": "code",
   "execution_count": 25,
   "metadata": {},
   "outputs": [],
   "source": [
    "def adın_kadar_kazan(name):\n",
    "\n",
    "    \"\"\"Bu fonksiyon ismin içerisinde geçem sesli harf sayısını bulur\"\"\"\n",
    "\n",
    "    counter = 0\n",
    "\n",
    "    for i in name.lower():\n",
    "\n",
    "        if i in \"aeiıoöuü\":\n",
    "            counter += 1\n",
    "\n",
    "    print(counter)"
   ]
  },
  {
   "cell_type": "code",
   "execution_count": 76,
   "metadata": {},
   "outputs": [
    {
     "data": {
      "text/plain": [
       "2000"
      ]
     },
     "execution_count": 76,
     "metadata": {},
     "output_type": "execute_result"
    }
   ],
   "source": [
    "adın_kadar_kazan(\"Hamdi\") "
   ]
  },
  {
   "cell_type": "code",
   "execution_count": 26,
   "metadata": {},
   "outputs": [],
   "source": [
    "def adın_kadar_kazan_2(name):\n",
    "\n",
    "    \"\"\"Bu fonksiyon ismin içerisinde geçem sesli harf sayısını bulur\"\"\"\n",
    "\n",
    "    counter = 0\n",
    "\n",
    "    for i in name.lower():\n",
    "\n",
    "        if i in \"aeiıoöuü\":\n",
    "            counter += 1\n",
    "\n",
    "    return counter"
   ]
  },
  {
   "cell_type": "code",
   "execution_count": 27,
   "metadata": {},
   "outputs": [
    {
     "name": "stdout",
     "output_type": "stream",
     "text": [
      "2000\n"
     ]
    }
   ],
   "source": [
    "print(adın_kadar_kazan_2(\"Hamdi\") * 1000)\n"
   ]
  },
  {
   "cell_type": "code",
   "execution_count": 68,
   "metadata": {},
   "outputs": [],
   "source": [
    "def isArmstrong(sayı):\n",
    "\n",
    " "
   ]
  },
  {
   "cell_type": "code",
   "execution_count": 36,
   "metadata": {},
   "outputs": [],
   "source": [
    "# armstrong number bulan fonksiyonu yazın\n",
    "\n",
    "def isArmstrong_2(sayı):\n",
    "\n",
    "    sayı = str(sayı)\n",
    "    uzunluk = len(sayı)\n",
    "\n",
    "    toplam = 0\n",
    "\n",
    "    for i in sayı:\n",
    "        toplam += int(i) ** uzunluk\n",
    "\n",
    "    if int(sayı) == toplam:\n",
    "        return f\"girilen sayı: {sayı} armstrong bir sayıdır\"\n",
    "    else:\n",
    "        return f\"girilen sayı: {sayı} armstrong bir sayı değildir\""
   ]
  },
  {
   "cell_type": "code",
   "execution_count": 40,
   "metadata": {},
   "outputs": [],
   "source": [
    "def isArmstron_3(sayi):\n",
    "\n",
    "    sayi = str(sayi)\n",
    "\n",
    "    toplam = 0\n",
    "\n",
    "    for i in sayi :\n",
    "        toplam += int(i) ** len(sayi)\n",
    "    if int(sayi) == toplam :\n",
    "        return f\"Girdiğiniz sayı : {sayi} bir Armstrong sayıdır.\"\n",
    "    else :\n",
    "        return f\"Girdiğiniz sayı : {sayi} bir Armstrong sayı değildir.\"\n",
    "    \n",
    "\n"
   ]
  },
  {
   "cell_type": "code",
   "execution_count": 41,
   "metadata": {},
   "outputs": [
    {
     "ename": "NameError",
     "evalue": "name 'isArmstrong_3' is not defined",
     "output_type": "error",
     "traceback": [
      "\u001b[1;31m---------------------------------------------------------------------------\u001b[0m",
      "\u001b[1;31mNameError\u001b[0m                                 Traceback (most recent call last)",
      "Cell \u001b[1;32mIn[41], line 1\u001b[0m\n\u001b[1;32m----> 1\u001b[0m \u001b[43misArmstrong_3\u001b[49m(\u001b[38;5;241m407\u001b[39m)\n",
      "\u001b[1;31mNameError\u001b[0m: name 'isArmstrong_3' is not defined"
     ]
    }
   ],
   "source": [
    "isArmstrong_3(407)\n"
   ]
  },
  {
   "cell_type": "code",
   "execution_count": 30,
   "metadata": {},
   "outputs": [],
   "source": [
    "def Ankaralı_namık():\n",
    "    print(\"Yan cehennem yan 100 kamyon kömür ile geliyorum yan\")"
   ]
  },
  {
   "cell_type": "code",
   "execution_count": 31,
   "metadata": {},
   "outputs": [
    {
     "name": "stdout",
     "output_type": "stream",
     "text": [
      "Yan cehennem yan 100 kamyon kömür ile geliyorum yan\n"
     ]
    }
   ],
   "source": [
    "Ankaralı_namık()"
   ]
  },
  {
   "cell_type": "code",
   "execution_count": 50,
   "metadata": {},
   "outputs": [],
   "source": [
    "def my_range(a, b) :    # Kendi range değişkenim\n",
    "    liste = []\n",
    "    while a <= b :\n",
    "        liste.append(a)\n",
    "        a += 1\n",
    "    print(liste)\n"
   ]
  },
  {
   "cell_type": "code",
   "execution_count": 51,
   "metadata": {},
   "outputs": [
    {
     "name": "stdout",
     "output_type": "stream",
     "text": [
      "[1, 2, 3, 4, 5, 6, 7, 8, 9, 10]\n"
     ]
    }
   ],
   "source": [
    "my_range(1,10)"
   ]
  },
  {
   "cell_type": "markdown",
   "metadata": {},
   "source": [
    "ödev1 - sayının asal sayı olup olmadığnı kontrol eden bir fonksiyon yazın.\n",
    "ödev2 - sayının lasa sayı olup olmadığnı kontrol eden bir fonksiyon yazın."
   ]
  },
  {
   "cell_type": "code",
   "execution_count": 30,
   "metadata": {},
   "outputs": [],
   "source": [
    "# benim çözüm\n",
    "def asal(sayi):\n",
    "    if sayi < 2:\n",
    "        return f\"{sayi} , 2 den küçük olduğu için asal değildir.\"\n",
    "    if sayi == 2 :\n",
    "        return f\"{sayi} en küçük asal sayidir.\"\n",
    "    for i in range(2,sayi):\n",
    "        if sayi % i == 0:\n",
    "            return f\"{sayi} asal değildir\"\n",
    "    return f\"{sayi} asaldir\"\n",
    "        \n",
    "\n",
    "\n"
   ]
  },
  {
   "cell_type": "code",
   "execution_count": 31,
   "metadata": {},
   "outputs": [
    {
     "data": {
      "text/plain": [
       "'153 asal değildir'"
      ]
     },
     "execution_count": 31,
     "metadata": {},
     "output_type": "execute_result"
    }
   ],
   "source": [
    "asal(153)\n"
   ]
  },
  {
   "cell_type": "code",
   "execution_count": 2,
   "metadata": {},
   "outputs": [
    {
     "data": {
      "text/plain": [
       "'46543'"
      ]
     },
     "execution_count": 2,
     "metadata": {},
     "output_type": "execute_result"
    }
   ],
   "source": [
    "sayi = str(34564)\n",
    "sayi[::-1]"
   ]
  },
  {
   "cell_type": "code",
   "execution_count": 4,
   "metadata": {},
   "outputs": [],
   "source": [
    "#Hocanın çözümü\n",
    "def isAsal(x):\n",
    "\n",
    "    if x < 2:\n",
    "        return False\n",
    "    \n",
    "    else:\n",
    "\n",
    "        for i in range(2, x):\n",
    "\n",
    "            if x % i == 0:\n",
    "                return False\n",
    "            \n",
    "    return True"
   ]
  },
  {
   "cell_type": "code",
   "execution_count": 32,
   "metadata": {},
   "outputs": [],
   "source": [
    "#Hocanın çözümü\n",
    "def isLasa(x):\n",
    "\n",
    "    if x < 13 :\n",
    "        return False\n",
    "    else : \n",
    "\n",
    "        ters_sayı = int(str(x)[::-1])\n",
    "\n",
    "        if isAsal(x) and isAsal(ters_sayı):\n",
    "\n",
    "            return True\n",
    "        \n",
    "        else:\n",
    "            return False"
   ]
  },
  {
   "cell_type": "code",
   "execution_count": 39,
   "metadata": {},
   "outputs": [
    {
     "data": {
      "text/plain": [
       "False"
      ]
     },
     "execution_count": 39,
     "metadata": {},
     "output_type": "execute_result"
    }
   ],
   "source": [
    "isLasa(103)"
   ]
  },
  {
   "cell_type": "code",
   "execution_count": null,
   "metadata": {},
   "outputs": [],
   "source": []
  }
 ],
 "metadata": {
  "kernelspec": {
   "display_name": "Python 3",
   "language": "python",
   "name": "python3"
  },
  "language_info": {
   "codemirror_mode": {
    "name": "ipython",
    "version": 3
   },
   "file_extension": ".py",
   "mimetype": "text/x-python",
   "name": "python",
   "nbconvert_exporter": "python",
   "pygments_lexer": "ipython3",
   "version": "3.12.3"
  }
 },
 "nbformat": 4,
 "nbformat_minor": 2
}
