{
 "cells": [
  {
   "cell_type": "code",
   "execution_count": 8,
   "metadata": {},
   "outputs": [
    {
     "name": "stdout",
     "output_type": "stream",
     "text": [
      "[1, 25, 12, 49, 24, 28, 225, 36, 361, 64, 625]\n"
     ]
    }
   ],
   "source": [
    "sayılar_listesi = [1,5,6,7,12,14,15,18,19,32,25]\n",
    "\n",
    "x = 0\n",
    "\n",
    "sonuç_listesi = []\n",
    "\n",
    "while x < len(sayılar_listesi):\n",
    "\n",
    "    if sayılar_listesi[x] % 2:\n",
    "        sonuç_listesi.append(sayılar_listesi[x] ** 2)\n",
    "    \n",
    "    else:\n",
    "        sonuç_listesi.append(sayılar_listesi[x] * 2)\n",
    "\n",
    "    x += 1\n",
    "\n",
    "print(sonuç_listesi)"
   ]
  },
  {
   "cell_type": "code",
   "execution_count": 9,
   "metadata": {},
   "outputs": [
    {
     "name": "stdout",
     "output_type": "stream",
     "text": [
      "[1, 25, 12, 49, 24, 28, 225, 36, 361, 64, 625]\n"
     ]
    }
   ],
   "source": [
    "sayılar_listesi = [1,5,6,7,12,14,15,18,19,32,25]\n",
    "\n",
    "\n",
    "sonuç_listesi = []\n",
    "\n",
    "for i in sayılar_listesi :\n",
    "\n",
    "    if i % 2:\n",
    "        sonuç_listesi.append(i ** 2)\n",
    "    \n",
    "    else:\n",
    "        sonuç_listesi.append(i * 2)\n",
    "\n",
    "  \n",
    "\n",
    "print(sonuç_listesi)"
   ]
  },
  {
   "cell_type": "markdown",
   "metadata": {},
   "source": [
    "# random modülü"
   ]
  },
  {
   "cell_type": "code",
   "execution_count": 2,
   "metadata": {},
   "outputs": [],
   "source": [
    "import random  # import ifadesi modülü notebook a aktarmak için kullanılır. Genel bir iade"
   ]
  },
  {
   "cell_type": "code",
   "execution_count": 11,
   "metadata": {},
   "outputs": [
    {
     "data": {
      "text/plain": [
       "0.6413032730786075"
      ]
     },
     "execution_count": 11,
     "metadata": {},
     "output_type": "execute_result"
    }
   ],
   "source": [
    "random.random() # 0 ile 1 arasında sayılar üretir."
   ]
  },
  {
   "cell_type": "code",
   "execution_count": 12,
   "metadata": {},
   "outputs": [
    {
     "data": {
      "text/plain": [
       "0.6394267984578837"
      ]
     },
     "execution_count": 12,
     "metadata": {},
     "output_type": "execute_result"
    }
   ],
   "source": [
    "random.seed(42) # Aynı projede yada çalışmada aynı random sayı üretmek için kullanılır.\n",
    "random.random()"
   ]
  },
  {
   "cell_type": "code",
   "execution_count": 3,
   "metadata": {},
   "outputs": [
    {
     "data": {
      "text/plain": [
       "8"
      ]
     },
     "execution_count": 3,
     "metadata": {},
     "output_type": "execute_result"
    }
   ],
   "source": [
    "random.randint(3, 8) # 3 ile 8  arasında rastgele sayı üretti.  "
   ]
  },
  {
   "cell_type": "code",
   "execution_count": 14,
   "metadata": {},
   "outputs": [
    {
     "data": {
      "text/plain": [
       "[47, 17, 15, 14, 8, 6]"
      ]
     },
     "execution_count": 14,
     "metadata": {},
     "output_type": "execute_result"
    }
   ],
   "source": [
    "random.sample(range(0, 49), 6)  # belirtilen aralıkta belirtilen sayı kadar rastgele sayı üretir."
   ]
  },
  {
   "cell_type": "code",
   "execution_count": 15,
   "metadata": {},
   "outputs": [
    {
     "name": "stdout",
     "output_type": "stream",
     "text": [
      "Girdiğiniz sayı: 10. Tahminini arttır\n",
      "Girdiğiniz sayı: 10. Tahminini arttır\n",
      "Girdiğiniz sayı: 68. Tahminini arttır\n",
      "Girdiğiniz sayı: 85. Tahminini arttır\n",
      "Girdiğiniz sayı: 90. Tahminini azalt\n",
      "Girdiğiniz sayı: 88. Tahminini azalt\n",
      "Girdiğiniz sayı: 87. Doğru bildiniz. Tebrikler.\n"
     ]
    }
   ],
   "source": [
    "y = True\n",
    "import random\n",
    "aklımdaki_sayı = random.randint(1, 100) # Burada rastgele bir sayı seçtik onu bulmaya çalıştık.\n",
    "while y:\n",
    "    tahmin = int(input(\"1 ile 100 arasında bir sayı tuttum tahmin et. \"))\n",
    "    if aklımdaki_sayı < tahmin:\n",
    "        print(f\"Girdiğiniz sayı: {tahmin}. Tahminini azalt\")\n",
    "    elif aklımdaki_sayı > tahmin:\n",
    "        print(f\"Girdiğiniz sayı: {tahmin}. Tahminini arttır\")\n",
    "        print(f\"Girdiğiniz sayı: {tahmin}. Doğru bildiniz. Tebrikler.\")\n",
    "        y = False"
   ]
  },
  {
   "cell_type": "markdown",
   "metadata": {},
   "source": [
    "## break, contunie"
   ]
  },
  {
   "cell_type": "code",
   "execution_count": 31,
   "metadata": {},
   "outputs": [
    {
     "name": "stdout",
     "output_type": "stream",
     "text": [
      "Girdiğiniz sayı: 78. Tahminini azalt\n",
      "Girdiğiniz sayı: 54. Tahminini arttır\n",
      "Girdiğiniz sayı: 0. Tahminini arttır\n",
      "Girdiğiniz sayı: 60. Tahminini arttır\n",
      "Girdiğiniz sayı: 65. Tahminini arttır\n",
      "Girdiğiniz sayı: 70. Doğru bildiniz. Tebrikler.\n"
     ]
    }
   ],
   "source": [
    "\n",
    "import random\n",
    "aklımdaki_sayı = random.randint(1, 100) \n",
    "while True:\n",
    "    tahmin = int(input(\"1 ile 100 arasında bir sayı tuttum tahmin et. \"))\n",
    "    if aklımdaki_sayı < tahmin:\n",
    "        print(f\"Girdiğiniz sayı: {tahmin}. Tahminini azalt\")\n",
    "    elif aklımdaki_sayı > tahmin:\n",
    "        print(f\"Girdiğiniz sayı: {tahmin}. Tahminini arttır\")\n",
    "    else:\n",
    "        print(f\"Girdiğiniz sayı: {tahmin}. Doğru bildiniz. Tebrikler.\")\n",
    "        break # Burada False ifadesi yerine break kullandık. Döngünün sonlanması için."
   ]
  },
  {
   "cell_type": "code",
   "execution_count": 32,
   "metadata": {},
   "outputs": [
    {
     "name": "stdout",
     "output_type": "stream",
     "text": [
      "Girdiğiniz sayı: 68. 1 kerede bildiniz. Tebrikler.\n"
     ]
    }
   ],
   "source": [
    "y = True\n",
    "\n",
    "aklımdaki_sayı = 68\n",
    "\n",
    "sayaç = 0\n",
    "\n",
    "while True:\n",
    "\n",
    "    tahmin = int(input(\"1 ile 100 arasında bir sayı tuttum tahmin et. \"))\n",
    "    sayaç += 1\n",
    "\n",
    "    if aklımdaki_sayı < tahmin:\n",
    "        print(f\"Girdiğiniz sayı: {tahmin}. Tahminini azalt.Kalan hakkınız: {5 - sayaç}\")\n",
    "\n",
    "    elif aklımdaki_sayı > tahmin: \n",
    "        print(f\"Girdiğiniz sayı: {tahmin}. Tahminini arttır.Kalan hakkınız: {5 - sayaç}\")\n",
    "\n",
    "    else:\n",
    "        print(f\"Girdiğiniz sayı: {tahmin}. {sayaç} kerede bildiniz. Tebrikler.\")\n",
    "        break\n",
    "\n",
    "    if sayaç == 5:\n",
    "        break"
   ]
  },
  {
   "cell_type": "markdown",
   "metadata": {},
   "source": [
    "liste = [1, 2, 3, 4, \"Techpro\", 5, 6, 7] # sırayla int değerleri toplayın. str ifadeye denk gelince kod sonlansın"
   ]
  },
  {
   "cell_type": "code",
   "execution_count": 34,
   "metadata": {},
   "outputs": [
    {
     "name": "stdout",
     "output_type": "stream",
     "text": [
      "10\n"
     ]
    }
   ],
   "source": [
    "\n",
    "liste = [1, 2, 3, 4, \"Techpro\", 5, 6, 7] # Burada string ifadeye geldiğinde dögüyü sonlandırdı.\n",
    "\n",
    "x = 0\n",
    "\n",
    "toplam = 0\n",
    "\n",
    "while x < len(liste):\n",
    "\n",
    "    if type(liste[x]) == int:\n",
    "        toplam += liste[x]\n",
    "\n",
    "    elif type(liste[x]) == str:\n",
    "\n",
    "        break\n",
    "\n",
    "    x += 1\n",
    "\n",
    "print(toplam)"
   ]
  },
  {
   "cell_type": "markdown",
   "metadata": {},
   "source": [
    " sırayla int değerleri toplayın. str ifadeye denk gelince o ifedayi atlayın ve toplamaya devam edin."
   ]
  },
  {
   "cell_type": "code",
   "execution_count": 2,
   "metadata": {},
   "outputs": [
    {
     "name": "stdout",
     "output_type": "stream",
     "text": [
      "30\n"
     ]
    }
   ],
   "source": [
    "liste = [1, 2, 3, 4, \"Techpro\", 5, 6, 7, \"hamdi\", 2] \n",
    "\n",
    "x = 0\n",
    "\n",
    "toplam = 0\n",
    "\n",
    "while x < len(liste):\n",
    "\n",
    "    if type(liste[x]) == int:\n",
    "        toplam += liste[x]\n",
    "\n",
    "    elif type(liste[x]) == str:\n",
    "        x += 1\n",
    "        continue # Burada alt satıra geçmeden yukarı döngüye devam eder. string görürse devam et diyor.\n",
    "\n",
    "    x += 1\n",
    "\n",
    "print(toplam)"
   ]
  },
  {
   "cell_type": "code",
   "execution_count": 20,
   "metadata": {},
   "outputs": [
    {
     "name": "stdout",
     "output_type": "stream",
     "text": [
      "30\n"
     ]
    }
   ],
   "source": [
    "liste = [1, 2, 3, 4, \"Techpro\", 5, 6, 7, \"hamdi\", 2] \n",
    "\n",
    "x = 0\n",
    "\n",
    "toplam = 0\n",
    "\n",
    "while x < len(liste):\n",
    "\n",
    "    if type(liste[x]) == int:\n",
    "        toplam += liste[x]\n",
    "\n",
    "    x += 1\n",
    "\n",
    "print(toplam)"
   ]
  },
  {
   "cell_type": "markdown",
   "metadata": {},
   "source": [
    "# for"
   ]
  },
  {
   "cell_type": "code",
   "execution_count": 21,
   "metadata": {},
   "outputs": [
    {
     "name": "stdout",
     "output_type": "stream",
     "text": [
      "t\n",
      "e\n",
      "c\n",
      "h\n",
      "p\n",
      "r\n",
      "o\n"
     ]
    }
   ],
   "source": [
    "for i in \"techpro\" : # in burada techpro ifadesinin içerisinde arama yapar. Burada iafede içerisinde tek tek dolaşır.\n",
    "    print(i)         # iterable içerisindeki bütün elemanlar bitene kadar döner. iterable olmayan değerle çalışmaz.\n",
    "                     # iterable ın len değeri kadar döner.\n"
   ]
  },
  {
   "cell_type": "code",
   "execution_count": 22,
   "metadata": {},
   "outputs": [
    {
     "name": "stdout",
     "output_type": "stream",
     "text": [
      "tt\n",
      "ee\n",
      "cc\n",
      "hh\n",
      "pp\n",
      "rr\n",
      "oo\n"
     ]
    }
   ],
   "source": [
    "for i in \"techpro\" : # in burada techpro ifadesinin içerisinde arama yapar. Burada iafede içerisinde tek tek dolaşır.\n",
    "    print(i * 2)"
   ]
  },
  {
   "cell_type": "code",
   "execution_count": 23,
   "metadata": {},
   "outputs": [
    {
     "name": "stdout",
     "output_type": "stream",
     "text": [
      "1\n",
      "4\n",
      "9\n",
      "16\n",
      "25\n"
     ]
    }
   ],
   "source": [
    "liste_2 = [1, 2, 3, 4, 5]\n",
    "for i in liste_2 :\n",
    "    print(i ** 2)"
   ]
  },
  {
   "cell_type": "code",
   "execution_count": 37,
   "metadata": {},
   "outputs": [
    {
     "name": "stdout",
     "output_type": "stream",
     "text": [
      "1 nin keresi : 1\n",
      "2 nin keresi : 4\n",
      "3 nin keresi : 9\n",
      "4 nin keresi : 16\n",
      "5 nin keresi : 25\n"
     ]
    }
   ],
   "source": [
    "x = (1,2,3,4,5)\n",
    "for i in x :\n",
    "    print(f\"{i} nin keresi : {i ** 2}\")"
   ]
  },
  {
   "cell_type": "code",
   "execution_count": 25,
   "metadata": {},
   "outputs": [
    {
     "name": "stdout",
     "output_type": "stream",
     "text": [
      "['Ahmet', 'Bahar', 'Hakan', 'Hamdi']\n"
     ]
    }
   ],
   "source": [
    "isimler_listesi = [\"ahmet\", \"bahar\", \"hakan\", \"hamdi\"]\n",
    "düzeltilmiş_isim_listesi = []\n",
    "for i in isimler_listesi :\n",
    "    düzeltilmiş_isim_listesi.append(i.capitalize())\n",
    "print(düzeltilmiş_isim_listesi)"
   ]
  },
  {
   "cell_type": "code",
   "execution_count": 26,
   "metadata": {},
   "outputs": [
    {
     "name": "stdout",
     "output_type": "stream",
     "text": [
      "T-e-c-h-p-r-o-"
     ]
    }
   ],
   "source": [
    " \n",
    "for i in \"Techpro\" :\n",
    "    print(i, end = \"-\")\n",
    "\n",
    "\n",
    "    \n"
   ]
  },
  {
   "cell_type": "code",
   "execution_count": 43,
   "metadata": {},
   "outputs": [
    {
     "name": "stdout",
     "output_type": "stream",
     "text": [
      "T-e-c-h-p-r-o\n"
     ]
    }
   ],
   "source": [
    "new_str = \"\"\n",
    "\n",
    "for i in \"Techpro\":\n",
    "    new_str += i + \"-\"\n",
    "\n",
    "print(new_str.rstrip(\"-\")) # r strip sağ taraftaki - yi sildi."
   ]
  },
  {
   "cell_type": "markdown",
   "metadata": {},
   "source": [
    "min(), max()"
   ]
  },
  {
   "cell_type": "code",
   "execution_count": 28,
   "metadata": {},
   "outputs": [],
   "source": [
    "liste_3 = [2, 5, 1, 3, 9, 4, 6, 8, 15, 48, 256]"
   ]
  },
  {
   "cell_type": "code",
   "execution_count": 29,
   "metadata": {},
   "outputs": [
    {
     "data": {
      "text/plain": [
       "1"
      ]
     },
     "execution_count": 29,
     "metadata": {},
     "output_type": "execute_result"
    }
   ],
   "source": [
    "min(liste_3) # liste içirisinde en küçük değeri yazdırdı."
   ]
  },
  {
   "cell_type": "code",
   "execution_count": 30,
   "metadata": {},
   "outputs": [
    {
     "data": {
      "text/plain": [
       "256"
      ]
     },
     "execution_count": 30,
     "metadata": {},
     "output_type": "execute_result"
    }
   ],
   "source": [
    "max(liste_3) # liste içerisinde en büyük değeri yazdırdı."
   ]
  },
  {
   "cell_type": "markdown",
   "metadata": {},
   "source": [
    "liste_1 = [4,5,6,9,85,23,65,47,32,91] listenin en küçük ve en büyük elemanını min ve max fpnksiyonu kullanmadan bulun. sort fonk da kullanmayın. while ile min değeri for ile max değeri bulun."
   ]
  },
  {
   "cell_type": "code",
   "execution_count": 31,
   "metadata": {},
   "outputs": [
    {
     "name": "stdout",
     "output_type": "stream",
     "text": [
      "Listenin en büyük sayısı : 91\n"
     ]
    }
   ],
   "source": [
    "liste_1 = [4,5,6,9,85,23,65,47,32,91]\n",
    "max_deger = liste_1[0]\n",
    "\n",
    "for i in liste_1:\n",
    "    if i > max_deger :\n",
    "        max_deger = i\n",
    "\n",
    "print(f\"Listenin en büyük sayısı : {max_deger}\")\n",
    "\n",
    "    "
   ]
  },
  {
   "cell_type": "code",
   "execution_count": 33,
   "metadata": {},
   "outputs": [
    {
     "name": "stdout",
     "output_type": "stream",
     "text": [
      "Listenin en küçük sayısı : 4\n"
     ]
    }
   ],
   "source": [
    "liste_1 = [4,5,6,9,85,23,65,47,32,91,]\n",
    "min_deger = liste_1[0]\n",
    "x = 1\n",
    "\n",
    "while x < len(liste_1) :\n",
    "    if liste_1[x] < min_deger:\n",
    "        min_deger = liste_1[x]\n",
    "    x += 1\n",
    "print(f\"Listenin en küçük sayısı : {min_deger}\")"
   ]
  },
  {
   "cell_type": "code",
   "execution_count": 3,
   "metadata": {},
   "outputs": [
    {
     "name": "stdout",
     "output_type": "stream",
     "text": [
      "Listenin en büyük sayısı : 91, listenin en küçük sayısı : 4\n"
     ]
    }
   ],
   "source": [
    "liste_1 = [4,5,6,9,85,23,65,47,32,91,]\n",
    "max_deger = liste_1[0]\n",
    "min_deger = liste_1[0]\n",
    "\n",
    "for i in liste_1:\n",
    "    if i > max_deger :\n",
    "        max_deger = i\n",
    "    elif i < min_deger:\n",
    "        min_deger = i\n",
    "\n",
    "\n",
    "print(f\"Listenin en büyük sayısı : {max_deger}, listenin en küçük sayısı : {min_deger}\")"
   ]
  },
  {
   "cell_type": "code",
   "execution_count": 1,
   "metadata": {},
   "outputs": [
    {
     "name": "stdout",
     "output_type": "stream",
     "text": [
      "Listenin en küçük sayısı : 4 Listenin en büyük sayısı : 91\n"
     ]
    }
   ],
   "source": [
    "liste_1 = [4,5,6,9,85,23,65,47,32,91,]\n",
    "min_deger = liste_1[0]\n",
    "max_deger = liste_1[0]\n",
    "x = 1\n",
    "\n",
    "while x < len(liste_1) :\n",
    "    if liste_1[x] < min_deger:\n",
    "        min_deger = liste_1[x]\n",
    "    elif liste_1[x] > max_deger :\n",
    "        max_deger = liste_1[x]\n",
    " \n",
    "    x += 1\n",
    "print(f\"Listenin en küçük sayısı : {min_deger} Listenin en büyük sayısı : {max_deger}\")"
   ]
  }
 ],
 "metadata": {
  "kernelspec": {
   "display_name": "Python 3",
   "language": "python",
   "name": "python3"
  },
  "language_info": {
   "codemirror_mode": {
    "name": "ipython",
    "version": 3
   },
   "file_extension": ".py",
   "mimetype": "text/x-python",
   "name": "python",
   "nbconvert_exporter": "python",
   "pygments_lexer": "ipython3",
   "version": "3.12.3"
  }
 },
 "nbformat": 4,
 "nbformat_minor": 2
}
